{
 "cells": [
  {
   "cell_type": "code",
   "execution_count": 1,
   "metadata": {},
   "outputs": [],
   "source": [
    "from api_request import CreateYoutubeRequest\n",
    "import pandas as pd\n",
    "from cleaning import CleanYoutubeCSV\n",
    "%load_ext autoreload\n",
    "%autoreload 2"
   ]
  },
  {
   "cell_type": "code",
   "execution_count": 1,
   "metadata": {},
   "outputs": [],
   "source": [
    "from cleaning import CleanYoutubeCSV\n",
    "import pandas as pd"
   ]
  },
  {
   "cell_type": "code",
   "execution_count": 2,
   "metadata": {},
   "outputs": [],
   "source": [
    "cleaner = CleanYoutubeCSV()"
   ]
  },
  {
   "cell_type": "code",
   "execution_count": 3,
   "metadata": {},
   "outputs": [],
   "source": [
    "df = pd.read_csv('MarquesBrownlee.csv')"
   ]
  },
  {
   "cell_type": "code",
   "execution_count": 4,
   "metadata": {},
   "outputs": [],
   "source": [
    "df = cleaner.add_dummies(df)"
   ]
  },
  {
   "cell_type": "code",
   "execution_count": 5,
   "metadata": {},
   "outputs": [],
   "source": [
    "df = df.drop(columns = ['title', 'publish_hour', 'publish_day', 'season', 'day_part'])"
   ]
  },
  {
   "cell_type": "code",
   "execution_count": 6,
   "metadata": {},
   "outputs": [
    {
     "name": "stdout",
     "output_type": "stream",
     "text": [
      "<class 'pandas.core.frame.DataFrame'>\n",
      "RangeIndex: 1116 entries, 0 to 1115\n",
      "Data columns (total 22 columns):\n",
      "comment_count            1116 non-null int64\n",
      "dislike_count            1116 non-null int64\n",
      "duration                 1116 non-null int64\n",
      "like_count               1116 non-null int64\n",
      "live                     1116 non-null int64\n",
      "view_count               1116 non-null int64\n",
      "publish_month            1116 non-null int64\n",
      "publish_date             1116 non-null object\n",
      "days_after_last_video    1116 non-null int64\n",
      "title_length             1116 non-null int64\n",
      "description_length       1116 non-null int64\n",
      "tag_count                1116 non-null int64\n",
      "season_fall              1116 non-null uint8\n",
      "season_summer            1116 non-null uint8\n",
      "season_winter            1116 non-null uint8\n",
      "day_part_afternoon       1116 non-null uint8\n",
      "day_part_evening         1116 non-null uint8\n",
      "day_part_overnight       1116 non-null uint8\n",
      "review                   1116 non-null int64\n",
      "apple                    1116 non-null int64\n",
      "google                   1116 non-null int64\n",
      "samsung                  1116 non-null int64\n",
      "dtypes: int64(15), object(1), uint8(6)\n",
      "memory usage: 146.2+ KB\n"
     ]
    }
   ],
   "source": [
    "df.info()"
   ]
  },
  {
   "cell_type": "code",
   "execution_count": 7,
   "metadata": {},
   "outputs": [
    {
     "data": {
      "text/html": [
       "<div>\n",
       "<style scoped>\n",
       "    .dataframe tbody tr th:only-of-type {\n",
       "        vertical-align: middle;\n",
       "    }\n",
       "\n",
       "    .dataframe tbody tr th {\n",
       "        vertical-align: top;\n",
       "    }\n",
       "\n",
       "    .dataframe thead th {\n",
       "        text-align: right;\n",
       "    }\n",
       "</style>\n",
       "<table border=\"1\" class=\"dataframe\">\n",
       "  <thead>\n",
       "    <tr style=\"text-align: right;\">\n",
       "      <th></th>\n",
       "      <th>comment_count</th>\n",
       "      <th>dislike_count</th>\n",
       "      <th>duration</th>\n",
       "      <th>like_count</th>\n",
       "      <th>live</th>\n",
       "      <th>view_count</th>\n",
       "      <th>publish_month</th>\n",
       "      <th>publish_date</th>\n",
       "      <th>days_after_last_video</th>\n",
       "      <th>title_length</th>\n",
       "      <th>...</th>\n",
       "      <th>season_fall</th>\n",
       "      <th>season_summer</th>\n",
       "      <th>season_winter</th>\n",
       "      <th>day_part_afternoon</th>\n",
       "      <th>day_part_evening</th>\n",
       "      <th>day_part_overnight</th>\n",
       "      <th>review</th>\n",
       "      <th>apple</th>\n",
       "      <th>google</th>\n",
       "      <th>samsung</th>\n",
       "    </tr>\n",
       "  </thead>\n",
       "  <tbody>\n",
       "    <tr>\n",
       "      <td>0</td>\n",
       "      <td>6</td>\n",
       "      <td>5</td>\n",
       "      <td>315</td>\n",
       "      <td>33</td>\n",
       "      <td>0</td>\n",
       "      <td>2420</td>\n",
       "      <td>5</td>\n",
       "      <td>2008-05-30</td>\n",
       "      <td>62</td>\n",
       "      <td>37</td>\n",
       "      <td>...</td>\n",
       "      <td>0</td>\n",
       "      <td>0</td>\n",
       "      <td>0</td>\n",
       "      <td>0</td>\n",
       "      <td>1</td>\n",
       "      <td>0</td>\n",
       "      <td>0</td>\n",
       "      <td>0</td>\n",
       "      <td>0</td>\n",
       "      <td>0</td>\n",
       "    </tr>\n",
       "    <tr>\n",
       "      <td>1</td>\n",
       "      <td>40</td>\n",
       "      <td>18</td>\n",
       "      <td>574</td>\n",
       "      <td>159</td>\n",
       "      <td>0</td>\n",
       "      <td>14148</td>\n",
       "      <td>9</td>\n",
       "      <td>2008-09-16</td>\n",
       "      <td>109</td>\n",
       "      <td>41</td>\n",
       "      <td>...</td>\n",
       "      <td>1</td>\n",
       "      <td>0</td>\n",
       "      <td>0</td>\n",
       "      <td>0</td>\n",
       "      <td>0</td>\n",
       "      <td>1</td>\n",
       "      <td>0</td>\n",
       "      <td>0</td>\n",
       "      <td>0</td>\n",
       "      <td>0</td>\n",
       "    </tr>\n",
       "    <tr>\n",
       "      <td>2</td>\n",
       "      <td>8</td>\n",
       "      <td>1</td>\n",
       "      <td>139</td>\n",
       "      <td>36</td>\n",
       "      <td>0</td>\n",
       "      <td>2557</td>\n",
       "      <td>1</td>\n",
       "      <td>2009-01-01</td>\n",
       "      <td>107</td>\n",
       "      <td>48</td>\n",
       "      <td>...</td>\n",
       "      <td>0</td>\n",
       "      <td>0</td>\n",
       "      <td>1</td>\n",
       "      <td>0</td>\n",
       "      <td>1</td>\n",
       "      <td>0</td>\n",
       "      <td>0</td>\n",
       "      <td>0</td>\n",
       "      <td>0</td>\n",
       "      <td>0</td>\n",
       "    </tr>\n",
       "    <tr>\n",
       "      <td>3</td>\n",
       "      <td>6</td>\n",
       "      <td>5</td>\n",
       "      <td>219</td>\n",
       "      <td>26</td>\n",
       "      <td>0</td>\n",
       "      <td>2270</td>\n",
       "      <td>1</td>\n",
       "      <td>2009-01-01</td>\n",
       "      <td>0</td>\n",
       "      <td>36</td>\n",
       "      <td>...</td>\n",
       "      <td>0</td>\n",
       "      <td>0</td>\n",
       "      <td>1</td>\n",
       "      <td>0</td>\n",
       "      <td>1</td>\n",
       "      <td>0</td>\n",
       "      <td>0</td>\n",
       "      <td>0</td>\n",
       "      <td>0</td>\n",
       "      <td>0</td>\n",
       "    </tr>\n",
       "    <tr>\n",
       "      <td>4</td>\n",
       "      <td>10</td>\n",
       "      <td>2</td>\n",
       "      <td>350</td>\n",
       "      <td>38</td>\n",
       "      <td>0</td>\n",
       "      <td>3479</td>\n",
       "      <td>1</td>\n",
       "      <td>2009-01-29</td>\n",
       "      <td>28</td>\n",
       "      <td>32</td>\n",
       "      <td>...</td>\n",
       "      <td>0</td>\n",
       "      <td>0</td>\n",
       "      <td>1</td>\n",
       "      <td>0</td>\n",
       "      <td>1</td>\n",
       "      <td>0</td>\n",
       "      <td>0</td>\n",
       "      <td>0</td>\n",
       "      <td>0</td>\n",
       "      <td>0</td>\n",
       "    </tr>\n",
       "  </tbody>\n",
       "</table>\n",
       "<p>5 rows × 22 columns</p>\n",
       "</div>"
      ],
      "text/plain": [
       "   comment_count  dislike_count  duration  like_count  live  view_count  \\\n",
       "0              6              5       315          33     0        2420   \n",
       "1             40             18       574         159     0       14148   \n",
       "2              8              1       139          36     0        2557   \n",
       "3              6              5       219          26     0        2270   \n",
       "4             10              2       350          38     0        3479   \n",
       "\n",
       "   publish_month publish_date  days_after_last_video  title_length  ...  \\\n",
       "0              5   2008-05-30                     62            37  ...   \n",
       "1              9   2008-09-16                    109            41  ...   \n",
       "2              1   2009-01-01                    107            48  ...   \n",
       "3              1   2009-01-01                      0            36  ...   \n",
       "4              1   2009-01-29                     28            32  ...   \n",
       "\n",
       "   season_fall  season_summer  season_winter  day_part_afternoon  \\\n",
       "0            0              0              0                   0   \n",
       "1            1              0              0                   0   \n",
       "2            0              0              1                   0   \n",
       "3            0              0              1                   0   \n",
       "4            0              0              1                   0   \n",
       "\n",
       "   day_part_evening  day_part_overnight  review  apple  google  samsung  \n",
       "0                 1                   0       0      0       0        0  \n",
       "1                 0                   1       0      0       0        0  \n",
       "2                 1                   0       0      0       0        0  \n",
       "3                 1                   0       0      0       0        0  \n",
       "4                 1                   0       0      0       0        0  \n",
       "\n",
       "[5 rows x 22 columns]"
      ]
     },
     "execution_count": 7,
     "metadata": {},
     "output_type": "execute_result"
    }
   ],
   "source": [
    "df.head()"
   ]
  },
  {
   "cell_type": "code",
   "execution_count": 8,
   "metadata": {},
   "outputs": [],
   "source": [
    "df.to_csv('MarquesBrownlee_cleaned.csv')"
   ]
  },
  {
   "cell_type": "code",
   "execution_count": 14,
   "metadata": {},
   "outputs": [],
   "source": [
    "df_regression = df[['duration', 'title_length', 'description_length', 'tag_count', 'days_after_last_video', 'view_count', 'comment_count', 'like_count', 'dislike_count']]"
   ]
  },
  {
   "cell_type": "code",
   "execution_count": 15,
   "metadata": {},
   "outputs": [
    {
     "data": {
      "text/html": [
       "<div>\n",
       "<style scoped>\n",
       "    .dataframe tbody tr th:only-of-type {\n",
       "        vertical-align: middle;\n",
       "    }\n",
       "\n",
       "    .dataframe tbody tr th {\n",
       "        vertical-align: top;\n",
       "    }\n",
       "\n",
       "    .dataframe thead th {\n",
       "        text-align: right;\n",
       "    }\n",
       "</style>\n",
       "<table border=\"1\" class=\"dataframe\">\n",
       "  <thead>\n",
       "    <tr style=\"text-align: right;\">\n",
       "      <th></th>\n",
       "      <th>duration</th>\n",
       "      <th>title_length</th>\n",
       "      <th>description_length</th>\n",
       "      <th>tag_count</th>\n",
       "      <th>days_after_last_video</th>\n",
       "      <th>view_count</th>\n",
       "      <th>comment_count</th>\n",
       "      <th>like_count</th>\n",
       "      <th>dislike_count</th>\n",
       "    </tr>\n",
       "  </thead>\n",
       "  <tbody>\n",
       "    <tr>\n",
       "      <td>0</td>\n",
       "      <td>315</td>\n",
       "      <td>37</td>\n",
       "      <td>273</td>\n",
       "      <td>17</td>\n",
       "      <td>62</td>\n",
       "      <td>2420</td>\n",
       "      <td>6</td>\n",
       "      <td>33</td>\n",
       "      <td>5</td>\n",
       "    </tr>\n",
       "    <tr>\n",
       "      <td>1</td>\n",
       "      <td>574</td>\n",
       "      <td>41</td>\n",
       "      <td>214</td>\n",
       "      <td>11</td>\n",
       "      <td>109</td>\n",
       "      <td>14148</td>\n",
       "      <td>40</td>\n",
       "      <td>159</td>\n",
       "      <td>18</td>\n",
       "    </tr>\n",
       "    <tr>\n",
       "      <td>2</td>\n",
       "      <td>139</td>\n",
       "      <td>48</td>\n",
       "      <td>234</td>\n",
       "      <td>6</td>\n",
       "      <td>107</td>\n",
       "      <td>2557</td>\n",
       "      <td>8</td>\n",
       "      <td>36</td>\n",
       "      <td>1</td>\n",
       "    </tr>\n",
       "    <tr>\n",
       "      <td>3</td>\n",
       "      <td>219</td>\n",
       "      <td>36</td>\n",
       "      <td>395</td>\n",
       "      <td>21</td>\n",
       "      <td>0</td>\n",
       "      <td>2270</td>\n",
       "      <td>6</td>\n",
       "      <td>26</td>\n",
       "      <td>5</td>\n",
       "    </tr>\n",
       "    <tr>\n",
       "      <td>4</td>\n",
       "      <td>350</td>\n",
       "      <td>32</td>\n",
       "      <td>253</td>\n",
       "      <td>7</td>\n",
       "      <td>28</td>\n",
       "      <td>3479</td>\n",
       "      <td>10</td>\n",
       "      <td>38</td>\n",
       "      <td>2</td>\n",
       "    </tr>\n",
       "    <tr>\n",
       "      <td>...</td>\n",
       "      <td>...</td>\n",
       "      <td>...</td>\n",
       "      <td>...</td>\n",
       "      <td>...</td>\n",
       "      <td>...</td>\n",
       "      <td>...</td>\n",
       "      <td>...</td>\n",
       "      <td>...</td>\n",
       "      <td>...</td>\n",
       "    </tr>\n",
       "    <tr>\n",
       "      <td>1111</td>\n",
       "      <td>427</td>\n",
       "      <td>34</td>\n",
       "      <td>392</td>\n",
       "      <td>13</td>\n",
       "      <td>6</td>\n",
       "      <td>2866095</td>\n",
       "      <td>5626</td>\n",
       "      <td>93401</td>\n",
       "      <td>1716</td>\n",
       "    </tr>\n",
       "    <tr>\n",
       "      <td>1112</td>\n",
       "      <td>535</td>\n",
       "      <td>57</td>\n",
       "      <td>440</td>\n",
       "      <td>12</td>\n",
       "      <td>1</td>\n",
       "      <td>6638374</td>\n",
       "      <td>17075</td>\n",
       "      <td>165770</td>\n",
       "      <td>4727</td>\n",
       "    </tr>\n",
       "    <tr>\n",
       "      <td>1113</td>\n",
       "      <td>631</td>\n",
       "      <td>37</td>\n",
       "      <td>561</td>\n",
       "      <td>7</td>\n",
       "      <td>5</td>\n",
       "      <td>2471610</td>\n",
       "      <td>6513</td>\n",
       "      <td>80560</td>\n",
       "      <td>2281</td>\n",
       "    </tr>\n",
       "    <tr>\n",
       "      <td>1114</td>\n",
       "      <td>512</td>\n",
       "      <td>43</td>\n",
       "      <td>527</td>\n",
       "      <td>20</td>\n",
       "      <td>3</td>\n",
       "      <td>7251867</td>\n",
       "      <td>34333</td>\n",
       "      <td>185117</td>\n",
       "      <td>6585</td>\n",
       "    </tr>\n",
       "    <tr>\n",
       "      <td>1115</td>\n",
       "      <td>466</td>\n",
       "      <td>33</td>\n",
       "      <td>712</td>\n",
       "      <td>15</td>\n",
       "      <td>2</td>\n",
       "      <td>4665515</td>\n",
       "      <td>20772</td>\n",
       "      <td>183625</td>\n",
       "      <td>8839</td>\n",
       "    </tr>\n",
       "  </tbody>\n",
       "</table>\n",
       "<p>1116 rows × 9 columns</p>\n",
       "</div>"
      ],
      "text/plain": [
       "      duration  title_length  description_length  tag_count  \\\n",
       "0          315            37                 273         17   \n",
       "1          574            41                 214         11   \n",
       "2          139            48                 234          6   \n",
       "3          219            36                 395         21   \n",
       "4          350            32                 253          7   \n",
       "...        ...           ...                 ...        ...   \n",
       "1111       427            34                 392         13   \n",
       "1112       535            57                 440         12   \n",
       "1113       631            37                 561          7   \n",
       "1114       512            43                 527         20   \n",
       "1115       466            33                 712         15   \n",
       "\n",
       "      days_after_last_video  view_count  comment_count  like_count  \\\n",
       "0                        62        2420              6          33   \n",
       "1                       109       14148             40         159   \n",
       "2                       107        2557              8          36   \n",
       "3                         0        2270              6          26   \n",
       "4                        28        3479             10          38   \n",
       "...                     ...         ...            ...         ...   \n",
       "1111                      6     2866095           5626       93401   \n",
       "1112                      1     6638374          17075      165770   \n",
       "1113                      5     2471610           6513       80560   \n",
       "1114                      3     7251867          34333      185117   \n",
       "1115                      2     4665515          20772      183625   \n",
       "\n",
       "      dislike_count  \n",
       "0                 5  \n",
       "1                18  \n",
       "2                 1  \n",
       "3                 5  \n",
       "4                 2  \n",
       "...             ...  \n",
       "1111           1716  \n",
       "1112           4727  \n",
       "1113           2281  \n",
       "1114           6585  \n",
       "1115           8839  \n",
       "\n",
       "[1116 rows x 9 columns]"
      ]
     },
     "execution_count": 15,
     "metadata": {},
     "output_type": "execute_result"
    }
   ],
   "source": [
    "df_regression"
   ]
  },
  {
   "cell_type": "code",
   "execution_count": 153,
   "metadata": {},
   "outputs": [],
   "source": [
    "from scipy.stats import normaltest\n",
    "from sklearn.model_selection import train_test_split\n",
    "import seaborn as sns\n",
    "from sklearn.preprocessing import MinMaxScaler\n",
    "from sklearn.preprocessing import StandardScaler\n",
    "y = df_regression['view_count']\n",
    "X = df_regression.drop(columns='view_count')"
   ]
  },
  {
   "cell_type": "code",
   "execution_count": 154,
   "metadata": {},
   "outputs": [
    {
     "data": {
      "text/plain": [
       "<matplotlib.axes._subplots.AxesSubplot at 0x1a266fea58>"
      ]
     },
     "execution_count": 154,
     "metadata": {},
     "output_type": "execute_result"
    },
    {
     "data": {
      "image/png": "[encoded data removed]",
      "text/plain": [
       "<Figure size 720x720 with 2 Axes>"
      ]
     },
     "metadata": {
      "needs_background": "light"
     },
     "output_type": "display_data"
    }
   ],
   "source": [
    "import seaborn as sns\n",
    "import matplotlib.pyplot as plt\n",
    "plt.figure(figsize = (10,10))\n",
    "sns.heatmap(round(X_train.corr(), 2), cmap = 'RdYlGn_r', annot = True)"
   ]
  },
  {
   "cell_type": "code",
   "execution_count": 155,
   "metadata": {},
   "outputs": [],
   "source": [
    "X['like_ratio'] = X['like_count'] / (X['like_count'] + X['dislike_count'])"
   ]
  },
  {
   "cell_type": "code",
   "execution_count": 156,
   "metadata": {},
   "outputs": [],
   "source": [
    "X.drop(columns = ['like_count', 'dislike_count'], inplace = True)"
   ]
  },
  {
   "cell_type": "code",
   "execution_count": 157,
   "metadata": {
    "scrolled": true
   },
   "outputs": [
    {
     "data": {
      "text/plain": [
       "duration                 0.178079\n",
       "title_length            -0.177563\n",
       "description_length       0.072578\n",
       "tag_count               -0.257214\n",
       "days_after_last_video    0.061569\n",
       "comment_count            0.114361\n",
       "like_ratio               1.000000\n",
       "Name: like_ratio, dtype: float64"
      ]
     },
     "execution_count": 157,
     "metadata": {},
     "output_type": "execute_result"
    }
   ],
   "source": [
    "X.corr()['like_ratio']"
   ]
  },
  {
   "cell_type": "code",
   "execution_count": 158,
   "metadata": {},
   "outputs": [],
   "source": [
    "X_train, X_test, y_train, y_test = train_test_split(X, y, test_size = 0.2, random_state = 1)"
   ]
  },
  {
   "cell_type": "code",
   "execution_count": 159,
   "metadata": {},
   "outputs": [
    {
     "data": {
      "image/png": "[encoded data removed]",
      "text/plain": [
       "<Figure size 432x288 with 1 Axes>"
      ]
     },
     "metadata": {
      "needs_background": "light"
     },
     "output_type": "display_data"
    }
   ],
   "source": [
    "import numpy as np\n",
    "sns.distplot(y_train, hist = False);"
   ]
  },
  {
   "cell_type": "code",
   "execution_count": 170,
   "metadata": {},
   "outputs": [],
   "source": [
    "scale = MinMaxScaler()\n",
    "X_train_scale = scale.fit_transform(X_train)"
   ]
  },
  {
   "cell_type": "code",
   "execution_count": 171,
   "metadata": {},
   "outputs": [
    {
     "data": {
      "text/html": [
       "<div>\n",
       "<style scoped>\n",
       "    .dataframe tbody tr th:only-of-type {\n",
       "        vertical-align: middle;\n",
       "    }\n",
       "\n",
       "    .dataframe tbody tr th {\n",
       "        vertical-align: top;\n",
       "    }\n",
       "\n",
       "    .dataframe thead th {\n",
       "        text-align: right;\n",
       "    }\n",
       "</style>\n",
       "<table border=\"1\" class=\"dataframe\">\n",
       "  <thead>\n",
       "    <tr style=\"text-align: right;\">\n",
       "      <th></th>\n",
       "      <th>duration</th>\n",
       "      <th>title_length</th>\n",
       "      <th>description_length</th>\n",
       "      <th>tag_count</th>\n",
       "      <th>days_after_last_video</th>\n",
       "      <th>comment_count</th>\n",
       "      <th>like_ratio</th>\n",
       "    </tr>\n",
       "  </thead>\n",
       "  <tbody>\n",
       "    <tr>\n",
       "      <td>0</td>\n",
       "      <td>0.051691</td>\n",
       "      <td>0.301587</td>\n",
       "      <td>0.006236</td>\n",
       "      <td>0.057971</td>\n",
       "      <td>0.000000</td>\n",
       "      <td>0.000040</td>\n",
       "      <td>0.952228</td>\n",
       "    </tr>\n",
       "    <tr>\n",
       "      <td>1</td>\n",
       "      <td>0.204042</td>\n",
       "      <td>0.380952</td>\n",
       "      <td>0.262202</td>\n",
       "      <td>0.057971</td>\n",
       "      <td>0.015385</td>\n",
       "      <td>0.012137</td>\n",
       "      <td>0.939418</td>\n",
       "    </tr>\n",
       "    <tr>\n",
       "      <td>2</td>\n",
       "      <td>0.085892</td>\n",
       "      <td>0.587302</td>\n",
       "      <td>0.085141</td>\n",
       "      <td>0.376812</td>\n",
       "      <td>0.015385</td>\n",
       "      <td>0.000162</td>\n",
       "      <td>0.689067</td>\n",
       "    </tr>\n",
       "    <tr>\n",
       "      <td>3</td>\n",
       "      <td>0.228527</td>\n",
       "      <td>0.444444</td>\n",
       "      <td>0.134219</td>\n",
       "      <td>0.318841</td>\n",
       "      <td>0.025641</td>\n",
       "      <td>0.014548</td>\n",
       "      <td>0.950909</td>\n",
       "    </tr>\n",
       "    <tr>\n",
       "      <td>4</td>\n",
       "      <td>0.068014</td>\n",
       "      <td>0.269841</td>\n",
       "      <td>0.069143</td>\n",
       "      <td>0.115942</td>\n",
       "      <td>0.020513</td>\n",
       "      <td>0.000596</td>\n",
       "      <td>0.977212</td>\n",
       "    </tr>\n",
       "    <tr>\n",
       "      <td>...</td>\n",
       "      <td>...</td>\n",
       "      <td>...</td>\n",
       "      <td>...</td>\n",
       "      <td>...</td>\n",
       "      <td>...</td>\n",
       "      <td>...</td>\n",
       "      <td>...</td>\n",
       "    </tr>\n",
       "    <tr>\n",
       "      <td>887</td>\n",
       "      <td>0.210260</td>\n",
       "      <td>0.380952</td>\n",
       "      <td>0.116866</td>\n",
       "      <td>0.173913</td>\n",
       "      <td>0.015385</td>\n",
       "      <td>0.016178</td>\n",
       "      <td>0.943636</td>\n",
       "    </tr>\n",
       "    <tr>\n",
       "      <td>888</td>\n",
       "      <td>0.209483</td>\n",
       "      <td>0.539683</td>\n",
       "      <td>0.098698</td>\n",
       "      <td>0.144928</td>\n",
       "      <td>0.005128</td>\n",
       "      <td>0.007184</td>\n",
       "      <td>0.941969</td>\n",
       "    </tr>\n",
       "    <tr>\n",
       "      <td>889</td>\n",
       "      <td>0.187719</td>\n",
       "      <td>0.349206</td>\n",
       "      <td>0.136931</td>\n",
       "      <td>0.130435</td>\n",
       "      <td>0.020513</td>\n",
       "      <td>0.023069</td>\n",
       "      <td>0.943328</td>\n",
       "    </tr>\n",
       "    <tr>\n",
       "      <td>890</td>\n",
       "      <td>0.078119</td>\n",
       "      <td>0.507937</td>\n",
       "      <td>0.027657</td>\n",
       "      <td>0.260870</td>\n",
       "      <td>0.015385</td>\n",
       "      <td>0.000091</td>\n",
       "      <td>0.764732</td>\n",
       "    </tr>\n",
       "    <tr>\n",
       "      <td>891</td>\n",
       "      <td>0.287602</td>\n",
       "      <td>0.333333</td>\n",
       "      <td>0.180857</td>\n",
       "      <td>0.115942</td>\n",
       "      <td>0.015385</td>\n",
       "      <td>0.018352</td>\n",
       "      <td>0.942601</td>\n",
       "    </tr>\n",
       "  </tbody>\n",
       "</table>\n",
       "<p>892 rows × 7 columns</p>\n",
       "</div>"
      ],
      "text/plain": [
       "     duration  title_length  description_length  tag_count  \\\n",
       "0    0.051691      0.301587            0.006236   0.057971   \n",
       "1    0.204042      0.380952            0.262202   0.057971   \n",
       "2    0.085892      0.587302            0.085141   0.376812   \n",
       "3    0.228527      0.444444            0.134219   0.318841   \n",
       "4    0.068014      0.269841            0.069143   0.115942   \n",
       "..        ...           ...                 ...        ...   \n",
       "887  0.210260      0.380952            0.116866   0.173913   \n",
       "888  0.209483      0.539683            0.098698   0.144928   \n",
       "889  0.187719      0.349206            0.136931   0.130435   \n",
       "890  0.078119      0.507937            0.027657   0.260870   \n",
       "891  0.287602      0.333333            0.180857   0.115942   \n",
       "\n",
       "     days_after_last_video  comment_count  like_ratio  \n",
       "0                 0.000000       0.000040    0.952228  \n",
       "1                 0.015385       0.012137    0.939418  \n",
       "2                 0.015385       0.000162    0.689067  \n",
       "3                 0.025641       0.014548    0.950909  \n",
       "4                 0.020513       0.000596    0.977212  \n",
       "..                     ...            ...         ...  \n",
       "887               0.015385       0.016178    0.943636  \n",
       "888               0.005128       0.007184    0.941969  \n",
       "889               0.020513       0.023069    0.943328  \n",
       "890               0.015385       0.000091    0.764732  \n",
       "891               0.015385       0.018352    0.942601  \n",
       "\n",
       "[892 rows x 7 columns]"
      ]
     },
     "execution_count": 171,
     "metadata": {},
     "output_type": "execute_result"
    }
   ],
   "source": [
    "pd.DataFrame(X_train_scale, columns = X.columns)"
   ]
  },
  {
   "cell_type": "code",
   "execution_count": 172,
   "metadata": {},
   "outputs": [],
   "source": [
    "from sklearn.linear_model import LinearRegression\n",
    "linreg = LinearRegression()\n",
    "model = linreg.fit(X_train_scale, y_train)"
   ]
  },
  {
   "cell_type": "code",
   "execution_count": 178,
   "metadata": {},
   "outputs": [],
   "source": [
    "y_train_hat = model.predict(X_train_scale)"
   ]
  },
  {
   "cell_type": "code",
   "execution_count": 177,
   "metadata": {},
   "outputs": [
    {
     "data": {
      "text/plain": [
       "0.26852293804511607"
      ]
     },
     "execution_count": 177,
     "metadata": {},
     "output_type": "execute_result"
    }
   ],
   "source": [
    "from sklearn.metrics import r2_score\n",
    "r2_score(y_train, y_train_hat)"
   ]
  },
  {
   "cell_type": "code",
   "execution_count": 179,
   "metadata": {},
   "outputs": [
    {
     "data": {
      "text/plain": [
       "array([0.3764505 , 0.14826599, 0.29494579, 0.20458007, 0.0737324 ])"
      ]
     },
     "execution_count": 179,
     "metadata": {},
     "output_type": "execute_result"
    }
   ],
   "source": [
    "from sklearn.model_selection import cross_val_score\n",
    "np.mean(cross_val_score(linreg, X_train, y_train, cv = 5 )"
   ]
  },
  {
   "cell_type": "code",
   "execution_count": null,
   "metadata": {},
   "outputs": [],
   "source": []
  }
 ],
 "metadata": {
  "kernelspec": {
   "display_name": "learn-env",
   "language": "python",
   "name": "learn-env"
  },
  "language_info": {
   "codemirror_mode": {
    "name": "ipython",
    "version": 3
   },
   "file_extension": ".py",
   "mimetype": "text/x-python",
   "name": "python",
   "nbconvert_exporter": "python",
   "pygments_lexer": "ipython3",
   "version": "3.6.9"
  }
 },
 "nbformat": 4,
 "nbformat_minor": 2
}
