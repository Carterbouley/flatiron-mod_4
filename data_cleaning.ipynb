{
 "cells": [
  {
   "cell_type": "code",
   "execution_count": 48,
   "metadata": {
    "ExecuteTime": {
     "end_time": "2019-11-26T10:14:27.113911Z",
     "start_time": "2019-11-26T10:14:27.094319Z"
    }
   },
   "outputs": [],
   "source": [
    "import numpy as np\n",
    "import pandas as pd\n",
    "import matplotlib.pyplot as plt\n",
    "import seaborn as sns\n",
    "import requests \n",
    "import json\n",
    "import isodate"
   ]
  },
  {
   "cell_type": "code",
   "execution_count": 50,
   "metadata": {
    "ExecuteTime": {
     "end_time": "2019-11-26T10:15:09.146003Z",
     "start_time": "2019-11-26T10:15:09.126444Z"
    }
   },
   "outputs": [],
   "source": [
    "df = pd.read_csv('MarquesBrownlee.csv')\n",
    "df.drop(labels = ['Unnamed: 0'], axis = 1, inplace = True)"
   ]
  },
  {
   "cell_type": "code",
   "execution_count": 52,
   "metadata": {
    "ExecuteTime": {
     "end_time": "2019-11-26T10:15:27.208999Z",
     "start_time": "2019-11-26T10:15:27.058286Z"
    }
   },
   "outputs": [
    {
     "data": {
      "image/png": "[encoded data removed]",
      "text/plain": [
       "<Figure size 432x288 with 1 Axes>"
      ]
     },
     "metadata": {
      "needs_background": "light"
     },
     "output_type": "display_data"
    }
   ],
   "source": [
    "plt.boxplot(df.view_count);\n",
    "# top 5 videos are distinct outliers"
   ]
  },
  {
   "cell_type": "code",
   "execution_count": 53,
   "metadata": {
    "ExecuteTime": {
     "end_time": "2019-11-26T10:15:55.157143Z",
     "start_time": "2019-11-26T10:15:55.147708Z"
    }
   },
   "outputs": [],
   "source": [
    "top_5_index = df.view_count.sort_values(ascending = False).head().index\n",
    "df.drop(labels = top_5_index, inplace = True)\n",
    "# remove top 5 videos"
   ]
  },
  {
   "cell_type": "code",
   "execution_count": 55,
   "metadata": {
    "ExecuteTime": {
     "end_time": "2019-11-26T10:16:59.827409Z",
     "start_time": "2019-11-26T10:16:59.804269Z"
    }
   },
   "outputs": [],
   "source": [
    "df['season'] = df['publish_month'].map(lambda x: \n",
    "                               'winter' if (x == 12) |( x < 3) else \n",
    "                               ('spring' if (3 <= x < 6) else\n",
    "                               ('summer' if (6 <= x < 9) else \n",
    "                               'fall')))\n",
    "df['day_part'] = df['publish_hour'].map(lambda x: \n",
    "                               'morning' if (6 <= x <12) else \n",
    "                               ('afternoon' if (12 <= x < 18) else\n",
    "                               ('evening' if (18 <= x < 24) else \n",
    "                               'overnight')))\n",
    "df['weekend'] = df['publish_day'].map(lambda x: 1 if x >= 5 else 0)\n",
    "                               \n",
    "df.season = df.season.astype('category').cat.codes    \n",
    "df.day_part = df.day_part.astype('category').cat.codes"
   ]
  },
  {
   "cell_type": "code",
   "execution_count": 58,
   "metadata": {
    "ExecuteTime": {
     "end_time": "2019-11-26T10:18:43.316946Z",
     "start_time": "2019-11-26T10:18:43.279821Z"
    }
   },
   "outputs": [],
   "source": [
    "season_dummies = pd.get_dummies(df.season, prefix ='season')\n",
    "season_dummies.drop(columns = 'season_2', inplace = True)\n",
    "\n",
    "day_part_dummies = pd.get_dummies(df.day_part, prefix = 'day_part')\n",
    "day_part_dummies.drop(columns = 'day_part_2', inplace = True)\n",
    "\n",
    "df = pd.concat([df, season_dummies, day_part_dummies], axis = 1)\n",
    "df.drop(columns = ['season', 'day_part'], inplace = True)"
   ]
  },
  {
   "cell_type": "code",
   "execution_count": 78,
   "metadata": {
    "ExecuteTime": {
     "end_time": "2019-11-26T10:25:42.523358Z",
     "start_time": "2019-11-26T10:25:42.500555Z"
    }
   },
   "outputs": [],
   "source": [
    "df['review'] = df.title.map(lambda x: 1 if ('Review' in x.split(' ')) | \n",
    "                            ('Review!' in x.split(' ')) | \n",
    "                            ('Review:' in x.split(' ')) |\n",
    "                            ('Impressions' in x.split(' ')) | \n",
    "                            ('Impressions:' in x.split(' ')) |\n",
    "                            ('Impressions!' in x.split(' ')) | \n",
    "                            ('Unboxing' in x.split(' ')) | \n",
    "                            ('Unboxing:' in x.split(' ')) |\n",
    "                            ('Unboxing!' in x.split(' ')) \n",
    "                            else 0)"
   ]
  },
  {
   "cell_type": "code",
   "execution_count": 107,
   "metadata": {
    "ExecuteTime": {
     "end_time": "2019-11-26T10:32:01.901173Z",
     "start_time": "2019-11-26T10:32:01.879421Z"
    }
   },
   "outputs": [],
   "source": [
    "df['apple'] = df.title.map(lambda x: 1 if ('Apple' in x.split(' ')) | \n",
    "                            ('Apple!' in x.split(' ')) | \n",
    "                            ('iPhone' in x.split(' ')) |\n",
    "                            ('iPhone!' in x.split(' ')) | \n",
    "                            ('iPad!:' in x.split(' ')) |\n",
    "                            ('iPad' in x.split(' ')) | \n",
    "                            ('iMac' in x.split(' ')) | \n",
    "                            ('Mac' in x.split(' ')) |\n",
    "                            ('Macbook' in x.split(' ')) |\n",
    "                            ('Macbook:' in x.split(' ')) |\n",
    "                            ('AirPods' in x.split(' ')) |\n",
    "                            ('Airpods!' in x.split(' ')) \n",
    "                            else 0)"
   ]
  },
  {
   "cell_type": "code",
   "execution_count": 115,
   "metadata": {
    "ExecuteTime": {
     "end_time": "2019-11-26T10:33:13.315775Z",
     "start_time": "2019-11-26T10:33:13.308004Z"
    }
   },
   "outputs": [],
   "source": [
    "df['google'] = df.title.map(lambda x: 1 if ('Google' in x.split(' ')) else 0)"
   ]
  },
  {
   "cell_type": "code",
   "execution_count": 124,
   "metadata": {
    "ExecuteTime": {
     "end_time": "2019-11-26T10:35:54.435869Z",
     "start_time": "2019-11-26T10:35:54.417767Z"
    }
   },
   "outputs": [],
   "source": [
    "df['samsung'] = df.title.map(lambda x: 1 if ('Samsung' in x.split(' ')) | \n",
    "                            ('Samsung!' in x.split(' ')) | \n",
    "                            ('Galaxy' in x.split(' ')) |\n",
    "                            ('Note' in x.split(' '))  \n",
    "                            else 0)"
   ]
  },
  {
   "cell_type": "code",
   "execution_count": 133,
   "metadata": {
    "ExecuteTime": {
     "end_time": "2019-11-26T10:37:32.453462Z",
     "start_time": "2019-11-26T10:37:32.444626Z"
    }
   },
   "outputs": [],
   "source": [
    "df['tesla'] = df.title.map(lambda x: 1 if ('Tesla' in x.split(' ')) else 0)"
   ]
  },
  {
   "cell_type": "code",
   "execution_count": 135,
   "metadata": {
    "ExecuteTime": {
     "end_time": "2019-11-26T10:39:21.500906Z",
     "start_time": "2019-11-26T10:39:21.490090Z"
    }
   },
   "outputs": [],
   "source": [
    "df.drop(columns = ['publish_date', 'title', 'publish_day', 'publish_hour', 'publish_month', 'live'], inplace = True)"
   ]
  },
  {
   "cell_type": "code",
   "execution_count": 136,
   "metadata": {
    "ExecuteTime": {
     "end_time": "2019-11-26T10:39:48.413680Z",
     "start_time": "2019-11-26T10:39:48.338005Z"
    }
   },
   "outputs": [],
   "source": [
    "df.to_csv('MarquesBrownlee_cleaned.csv')"
   ]
  }
 ],
 "metadata": {
  "kernelspec": {
   "display_name": "Python 3",
   "language": "python",
   "name": "python3"
  },
  "language_info": {
   "codemirror_mode": {
    "name": "ipython",
    "version": 3
   },
   "file_extension": ".py",
   "mimetype": "text/x-python",
   "name": "python",
   "nbconvert_exporter": "python",
   "pygments_lexer": "ipython3",
   "version": "3.7.3"
  },
  "toc": {
   "base_numbering": 1,
   "nav_menu": {},
   "number_sections": true,
   "sideBar": true,
   "skip_h1_title": true,
   "title_cell": "Table of Contents",
   "title_sidebar": "Contents",
   "toc_cell": false,
   "toc_position": {},
   "toc_section_display": true,
   "toc_window_display": false
  },
  "varInspector": {
   "cols": {
    "lenName": 16,
    "lenType": 16,
    "lenVar": 40
   },
   "kernels_config": {
    "python": {
     "delete_cmd_postfix": "",
     "delete_cmd_prefix": "del ",
     "library": "var_list.py",
     "varRefreshCmd": "print(var_dic_list())"
    },
    "r": {
     "delete_cmd_postfix": ") ",
     "delete_cmd_prefix": "rm(",
     "library": "var_list.r",
     "varRefreshCmd": "cat(var_dic_list()) "
    }
   },
   "types_to_exclude": [
    "module",
    "function",
    "builtin_function_or_method",
    "instance",
    "_Feature"
   ],
   "window_display": false
  }
 },
 "nbformat": 4,
 "nbformat_minor": 2
}
