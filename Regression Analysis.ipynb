{
 "cells": [
  {
   "cell_type": "markdown",
   "metadata": {},
   "source": [
    "## Importing libaries"
   ]
  },
  {
   "cell_type": "code",
   "execution_count": 42,
   "metadata": {
    "ExecuteTime": {
     "end_time": "2019-11-27T11:00:36.663508Z",
     "start_time": "2019-11-27T11:00:36.655368Z"
    }
   },
   "outputs": [],
   "source": [
    "import numpy as np\n",
    "import pandas as pd\n",
    "import matplotlib.pyplot as plt\n",
    "import seaborn as sns\n",
    "from sklearn.preprocessing import MinMaxScaler\n",
    "from sklearn.model_selection import train_test_split\n",
    "from sklearn.linear_model import LinearRegression\n",
    "from sklearn.model_selection import cross_val_score\n",
    "from sklearn.metrics import r2_score\n",
    "from sklearn.feature_selection import RFE\n",
    "from sklearn.preprocessing import PolynomialFeatures\n",
    "from sklearn.linear_model import Ridge\n",
    "from sklearn.linear_model import Lasso\n",
    "from sklearn.linear_model import RidgeCV\n",
    "from sklearn.linear_model import LassoCV"
   ]
  },
  {
   "cell_type": "markdown",
   "metadata": {},
   "source": [
    "## Importing data"
   ]
  },
  {
   "cell_type": "code",
   "execution_count": 2,
   "metadata": {
    "ExecuteTime": {
     "end_time": "2019-11-27T10:47:09.014709Z",
     "start_time": "2019-11-27T10:47:08.966123Z"
    }
   },
   "outputs": [
    {
     "data": {
      "text/html": [
       "<div>\n",
       "<style scoped>\n",
       "    .dataframe tbody tr th:only-of-type {\n",
       "        vertical-align: middle;\n",
       "    }\n",
       "\n",
       "    .dataframe tbody tr th {\n",
       "        vertical-align: top;\n",
       "    }\n",
       "\n",
       "    .dataframe thead th {\n",
       "        text-align: right;\n",
       "    }\n",
       "</style>\n",
       "<table border=\"1\" class=\"dataframe\">\n",
       "  <thead>\n",
       "    <tr style=\"text-align: right;\">\n",
       "      <th></th>\n",
       "      <th>comment_count</th>\n",
       "      <th>dislike_count</th>\n",
       "      <th>duration</th>\n",
       "      <th>like_count</th>\n",
       "      <th>view_count</th>\n",
       "      <th>days_after_last_video</th>\n",
       "      <th>title_length</th>\n",
       "      <th>description_length</th>\n",
       "      <th>tag_count</th>\n",
       "      <th>weekend</th>\n",
       "      <th>...</th>\n",
       "      <th>season_1</th>\n",
       "      <th>season_3</th>\n",
       "      <th>day_part_0</th>\n",
       "      <th>day_part_1</th>\n",
       "      <th>day_part_3</th>\n",
       "      <th>review</th>\n",
       "      <th>apple</th>\n",
       "      <th>google</th>\n",
       "      <th>samsung</th>\n",
       "      <th>tesla</th>\n",
       "    </tr>\n",
       "  </thead>\n",
       "  <tbody>\n",
       "    <tr>\n",
       "      <th>0</th>\n",
       "      <td>6</td>\n",
       "      <td>5</td>\n",
       "      <td>315</td>\n",
       "      <td>33</td>\n",
       "      <td>2422</td>\n",
       "      <td>62</td>\n",
       "      <td>37</td>\n",
       "      <td>273</td>\n",
       "      <td>17</td>\n",
       "      <td>0</td>\n",
       "      <td>...</td>\n",
       "      <td>1</td>\n",
       "      <td>0</td>\n",
       "      <td>0</td>\n",
       "      <td>1</td>\n",
       "      <td>0</td>\n",
       "      <td>0</td>\n",
       "      <td>0</td>\n",
       "      <td>0</td>\n",
       "      <td>0</td>\n",
       "      <td>0</td>\n",
       "    </tr>\n",
       "    <tr>\n",
       "      <th>1</th>\n",
       "      <td>40</td>\n",
       "      <td>18</td>\n",
       "      <td>574</td>\n",
       "      <td>159</td>\n",
       "      <td>14159</td>\n",
       "      <td>109</td>\n",
       "      <td>41</td>\n",
       "      <td>214</td>\n",
       "      <td>11</td>\n",
       "      <td>0</td>\n",
       "      <td>...</td>\n",
       "      <td>0</td>\n",
       "      <td>0</td>\n",
       "      <td>0</td>\n",
       "      <td>0</td>\n",
       "      <td>1</td>\n",
       "      <td>0</td>\n",
       "      <td>0</td>\n",
       "      <td>0</td>\n",
       "      <td>0</td>\n",
       "      <td>0</td>\n",
       "    </tr>\n",
       "    <tr>\n",
       "      <th>2</th>\n",
       "      <td>8</td>\n",
       "      <td>1</td>\n",
       "      <td>139</td>\n",
       "      <td>36</td>\n",
       "      <td>2561</td>\n",
       "      <td>107</td>\n",
       "      <td>48</td>\n",
       "      <td>234</td>\n",
       "      <td>6</td>\n",
       "      <td>0</td>\n",
       "      <td>...</td>\n",
       "      <td>0</td>\n",
       "      <td>1</td>\n",
       "      <td>0</td>\n",
       "      <td>1</td>\n",
       "      <td>0</td>\n",
       "      <td>0</td>\n",
       "      <td>0</td>\n",
       "      <td>0</td>\n",
       "      <td>0</td>\n",
       "      <td>0</td>\n",
       "    </tr>\n",
       "    <tr>\n",
       "      <th>3</th>\n",
       "      <td>6</td>\n",
       "      <td>5</td>\n",
       "      <td>219</td>\n",
       "      <td>26</td>\n",
       "      <td>2270</td>\n",
       "      <td>0</td>\n",
       "      <td>36</td>\n",
       "      <td>395</td>\n",
       "      <td>21</td>\n",
       "      <td>0</td>\n",
       "      <td>...</td>\n",
       "      <td>0</td>\n",
       "      <td>1</td>\n",
       "      <td>0</td>\n",
       "      <td>1</td>\n",
       "      <td>0</td>\n",
       "      <td>0</td>\n",
       "      <td>0</td>\n",
       "      <td>0</td>\n",
       "      <td>0</td>\n",
       "      <td>0</td>\n",
       "    </tr>\n",
       "    <tr>\n",
       "      <th>4</th>\n",
       "      <td>10</td>\n",
       "      <td>2</td>\n",
       "      <td>350</td>\n",
       "      <td>38</td>\n",
       "      <td>3481</td>\n",
       "      <td>28</td>\n",
       "      <td>32</td>\n",
       "      <td>253</td>\n",
       "      <td>7</td>\n",
       "      <td>0</td>\n",
       "      <td>...</td>\n",
       "      <td>0</td>\n",
       "      <td>1</td>\n",
       "      <td>0</td>\n",
       "      <td>1</td>\n",
       "      <td>0</td>\n",
       "      <td>0</td>\n",
       "      <td>0</td>\n",
       "      <td>0</td>\n",
       "      <td>0</td>\n",
       "      <td>0</td>\n",
       "    </tr>\n",
       "  </tbody>\n",
       "</table>\n",
       "<p>5 rows × 21 columns</p>\n",
       "</div>"
      ],
      "text/plain": [
       "   comment_count  dislike_count  duration  like_count  view_count  \\\n",
       "0              6              5       315          33        2422   \n",
       "1             40             18       574         159       14159   \n",
       "2              8              1       139          36        2561   \n",
       "3              6              5       219          26        2270   \n",
       "4             10              2       350          38        3481   \n",
       "\n",
       "   days_after_last_video  title_length  description_length  tag_count  \\\n",
       "0                     62            37                 273         17   \n",
       "1                    109            41                 214         11   \n",
       "2                    107            48                 234          6   \n",
       "3                      0            36                 395         21   \n",
       "4                     28            32                 253          7   \n",
       "\n",
       "   weekend  ...  season_1  season_3  day_part_0  day_part_1  day_part_3  \\\n",
       "0        0  ...         1         0           0           1           0   \n",
       "1        0  ...         0         0           0           0           1   \n",
       "2        0  ...         0         1           0           1           0   \n",
       "3        0  ...         0         1           0           1           0   \n",
       "4        0  ...         0         1           0           1           0   \n",
       "\n",
       "   review  apple  google  samsung  tesla  \n",
       "0       0      0       0        0      0  \n",
       "1       0      0       0        0      0  \n",
       "2       0      0       0        0      0  \n",
       "3       0      0       0        0      0  \n",
       "4       0      0       0        0      0  \n",
       "\n",
       "[5 rows x 21 columns]"
      ]
     },
     "execution_count": 2,
     "metadata": {},
     "output_type": "execute_result"
    }
   ],
   "source": [
    "df = pd.read_csv('MarquesBrownlee_cleaned.csv')\n",
    "df.drop(columns = ['Unnamed: 0'], inplace = True)\n",
    "df.head()"
   ]
  },
  {
   "cell_type": "markdown",
   "metadata": {},
   "source": [
    "## Splitting the data into predictors and target"
   ]
  },
  {
   "cell_type": "code",
   "execution_count": 3,
   "metadata": {
    "ExecuteTime": {
     "end_time": "2019-11-27T10:47:09.027517Z",
     "start_time": "2019-11-27T10:47:09.019453Z"
    }
   },
   "outputs": [],
   "source": [
    "X = df.drop(columns = ['view_count'])\n",
    "y = df['view_count']"
   ]
  },
  {
   "cell_type": "code",
   "execution_count": 4,
   "metadata": {
    "ExecuteTime": {
     "end_time": "2019-11-27T10:47:09.047097Z",
     "start_time": "2019-11-27T10:47:09.032072Z"
    }
   },
   "outputs": [
    {
     "name": "stdout",
     "output_type": "stream",
     "text": [
      "<class 'pandas.core.frame.DataFrame'>\n",
      "RangeIndex: 1112 entries, 0 to 1111\n",
      "Data columns (total 20 columns):\n",
      "comment_count            1112 non-null int64\n",
      "dislike_count            1112 non-null int64\n",
      "duration                 1112 non-null int64\n",
      "like_count               1112 non-null int64\n",
      "days_after_last_video    1112 non-null int64\n",
      "title_length             1112 non-null int64\n",
      "description_length       1112 non-null int64\n",
      "tag_count                1112 non-null int64\n",
      "weekend                  1112 non-null int64\n",
      "season_0                 1112 non-null int64\n",
      "season_1                 1112 non-null int64\n",
      "season_3                 1112 non-null int64\n",
      "day_part_0               1112 non-null int64\n",
      "day_part_1               1112 non-null int64\n",
      "day_part_3               1112 non-null int64\n",
      "review                   1112 non-null int64\n",
      "apple                    1112 non-null int64\n",
      "google                   1112 non-null int64\n",
      "samsung                  1112 non-null int64\n",
      "tesla                    1112 non-null int64\n",
      "dtypes: int64(20)\n",
      "memory usage: 173.8 KB\n"
     ]
    }
   ],
   "source": [
    "X.info()\n",
    "#checking datatypes"
   ]
  },
  {
   "cell_type": "markdown",
   "metadata": {},
   "source": [
    "## Dealing with multicollinearity between predictors"
   ]
  },
  {
   "cell_type": "code",
   "execution_count": 5,
   "metadata": {
    "ExecuteTime": {
     "end_time": "2019-11-27T10:47:11.277739Z",
     "start_time": "2019-11-27T10:47:09.051518Z"
    }
   },
   "outputs": [
    {
     "data": {
      "image/png": "[encoded data removed]",
      "text/plain": [
       "<Figure size 720x720 with 2 Axes>"
      ]
     },
     "metadata": {
      "needs_background": "light"
     },
     "output_type": "display_data"
    }
   ],
   "source": [
    "plt.figure(figsize = (10,10))\n",
    "sns.heatmap(round(X.corr(), 2), cmap = 'RdYlGn_r', annot = True);\n",
    "#like count and dislike count have a high multicollinearity"
   ]
  },
  {
   "cell_type": "code",
   "execution_count": 6,
   "metadata": {
    "ExecuteTime": {
     "end_time": "2019-11-27T10:47:11.298289Z",
     "start_time": "2019-11-27T10:47:11.282211Z"
    }
   },
   "outputs": [],
   "source": [
    "X['like_dislike_ratio'] = X['like_count'] / (X['dislike_count'] + X['like_count'])\n",
    "X.drop(columns = ['like_count','dislike_count'], inplace = True)\n",
    "#removing collinearity between like count and dislike count"
   ]
  },
  {
   "cell_type": "markdown",
   "metadata": {},
   "source": [
    "## Splitting the data into training and test sets for model validation"
   ]
  },
  {
   "cell_type": "code",
   "execution_count": 7,
   "metadata": {
    "ExecuteTime": {
     "end_time": "2019-11-27T10:47:11.311954Z",
     "start_time": "2019-11-27T10:47:11.301947Z"
    }
   },
   "outputs": [],
   "source": [
    "X_train, X_test, y_train, y_test = train_test_split(X, y, test_size = 0.2, random_state = 1)"
   ]
  },
  {
   "cell_type": "markdown",
   "metadata": {},
   "source": [
    "## Scaling the numerical predictors"
   ]
  },
  {
   "cell_type": "code",
   "execution_count": 8,
   "metadata": {
    "ExecuteTime": {
     "end_time": "2019-11-27T10:47:11.338251Z",
     "start_time": "2019-11-27T10:47:11.317043Z"
    }
   },
   "outputs": [],
   "source": [
    "X_train_num = X_train.drop(columns = ['weekend', 'season_0', 'season_1', 'season_3', 'day_part_0', 'day_part_1', \n",
    "                                            'day_part_3', 'review', 'apple', 'google' , 'samsung','tesla'])\n",
    "\n",
    "X_test_num = X_test.drop(columns = ['weekend', 'season_0', 'season_1', 'season_3', 'day_part_0', 'day_part_1', \n",
    "                                            'day_part_3', 'review', 'apple', 'google' , 'samsung','tesla'])\n",
    "\n",
    "X_train_cat = X_train[['weekend', 'season_0', 'season_1', 'season_3', 'day_part_0', 'day_part_1', \n",
    "                     'day_part_3', 'review', 'apple', 'google' , 'samsung','tesla']]\n",
    "\n",
    "X_test_cat = X_test[['weekend', 'season_0', 'season_1', 'season_3', 'day_part_0', 'day_part_1', \n",
    "                     'day_part_3', 'review', 'apple', 'google' , 'samsung','tesla']]\n",
    "#splitting the predictors into categorical and numerical"
   ]
  },
  {
   "cell_type": "code",
   "execution_count": 9,
   "metadata": {
    "ExecuteTime": {
     "end_time": "2019-11-27T10:47:11.406299Z",
     "start_time": "2019-11-27T10:47:11.345002Z"
    }
   },
   "outputs": [
    {
     "name": "stderr",
     "output_type": "stream",
     "text": [
      "/Users/jacktann/anaconda3/lib/python3.7/site-packages/sklearn/preprocessing/data.py:334: DataConversionWarning: Data with input dtype int64, float64 were all converted to float64 by MinMaxScaler.\n",
      "  return self.partial_fit(X, y)\n"
     ]
    },
    {
     "data": {
      "text/html": [
       "<div>\n",
       "<style scoped>\n",
       "    .dataframe tbody tr th:only-of-type {\n",
       "        vertical-align: middle;\n",
       "    }\n",
       "\n",
       "    .dataframe tbody tr th {\n",
       "        vertical-align: top;\n",
       "    }\n",
       "\n",
       "    .dataframe thead th {\n",
       "        text-align: right;\n",
       "    }\n",
       "</style>\n",
       "<table border=\"1\" class=\"dataframe\">\n",
       "  <thead>\n",
       "    <tr style=\"text-align: right;\">\n",
       "      <th></th>\n",
       "      <th>comment_count</th>\n",
       "      <th>duration</th>\n",
       "      <th>days_after_last_video</th>\n",
       "      <th>title_length</th>\n",
       "      <th>description_length</th>\n",
       "      <th>tag_count</th>\n",
       "      <th>like_dislike_ratio</th>\n",
       "      <th>weekend</th>\n",
       "      <th>season_0</th>\n",
       "      <th>season_1</th>\n",
       "      <th>season_3</th>\n",
       "      <th>day_part_0</th>\n",
       "      <th>day_part_1</th>\n",
       "      <th>day_part_3</th>\n",
       "      <th>review</th>\n",
       "      <th>apple</th>\n",
       "      <th>google</th>\n",
       "      <th>samsung</th>\n",
       "      <th>tesla</th>\n",
       "    </tr>\n",
       "  </thead>\n",
       "  <tbody>\n",
       "    <tr>\n",
       "      <th>59</th>\n",
       "      <td>0.000023</td>\n",
       "      <td>0.073066</td>\n",
       "      <td>0.000000</td>\n",
       "      <td>0.746032</td>\n",
       "      <td>0.045553</td>\n",
       "      <td>0.161765</td>\n",
       "      <td>0.800857</td>\n",
       "      <td>1</td>\n",
       "      <td>0</td>\n",
       "      <td>0</td>\n",
       "      <td>1</td>\n",
       "      <td>0</td>\n",
       "      <td>0</td>\n",
       "      <td>1</td>\n",
       "      <td>0</td>\n",
       "      <td>0</td>\n",
       "      <td>0</td>\n",
       "      <td>0</td>\n",
       "      <td>0</td>\n",
       "    </tr>\n",
       "    <tr>\n",
       "      <th>13</th>\n",
       "      <td>0.000040</td>\n",
       "      <td>0.051691</td>\n",
       "      <td>0.000000</td>\n",
       "      <td>0.301587</td>\n",
       "      <td>0.006236</td>\n",
       "      <td>0.044118</td>\n",
       "      <td>0.952228</td>\n",
       "      <td>0</td>\n",
       "      <td>0</td>\n",
       "      <td>0</td>\n",
       "      <td>1</td>\n",
       "      <td>0</td>\n",
       "      <td>0</td>\n",
       "      <td>1</td>\n",
       "      <td>0</td>\n",
       "      <td>0</td>\n",
       "      <td>0</td>\n",
       "      <td>0</td>\n",
       "      <td>0</td>\n",
       "    </tr>\n",
       "    <tr>\n",
       "      <th>649</th>\n",
       "      <td>0.015256</td>\n",
       "      <td>0.394481</td>\n",
       "      <td>0.015385</td>\n",
       "      <td>0.269841</td>\n",
       "      <td>0.131508</td>\n",
       "      <td>0.220588</td>\n",
       "      <td>0.973082</td>\n",
       "      <td>0</td>\n",
       "      <td>1</td>\n",
       "      <td>0</td>\n",
       "      <td>0</td>\n",
       "      <td>0</td>\n",
       "      <td>1</td>\n",
       "      <td>0</td>\n",
       "      <td>1</td>\n",
       "      <td>0</td>\n",
       "      <td>1</td>\n",
       "      <td>0</td>\n",
       "      <td>0</td>\n",
       "    </tr>\n",
       "    <tr>\n",
       "      <th>262</th>\n",
       "      <td>0.000162</td>\n",
       "      <td>0.085892</td>\n",
       "      <td>0.015385</td>\n",
       "      <td>0.587302</td>\n",
       "      <td>0.085141</td>\n",
       "      <td>0.367647</td>\n",
       "      <td>0.689067</td>\n",
       "      <td>0</td>\n",
       "      <td>1</td>\n",
       "      <td>0</td>\n",
       "      <td>0</td>\n",
       "      <td>0</td>\n",
       "      <td>0</td>\n",
       "      <td>1</td>\n",
       "      <td>0</td>\n",
       "      <td>0</td>\n",
       "      <td>0</td>\n",
       "      <td>0</td>\n",
       "      <td>0</td>\n",
       "    </tr>\n",
       "    <tr>\n",
       "      <th>828</th>\n",
       "      <td>0.005332</td>\n",
       "      <td>0.150019</td>\n",
       "      <td>0.010256</td>\n",
       "      <td>0.349206</td>\n",
       "      <td>0.143980</td>\n",
       "      <td>0.088235</td>\n",
       "      <td>0.976658</td>\n",
       "      <td>0</td>\n",
       "      <td>0</td>\n",
       "      <td>0</td>\n",
       "      <td>1</td>\n",
       "      <td>0</td>\n",
       "      <td>0</td>\n",
       "      <td>1</td>\n",
       "      <td>0</td>\n",
       "      <td>0</td>\n",
       "      <td>0</td>\n",
       "      <td>0</td>\n",
       "      <td>0</td>\n",
       "    </tr>\n",
       "  </tbody>\n",
       "</table>\n",
       "</div>"
      ],
      "text/plain": [
       "     comment_count  duration  days_after_last_video  title_length  \\\n",
       "59        0.000023  0.073066               0.000000      0.746032   \n",
       "13        0.000040  0.051691               0.000000      0.301587   \n",
       "649       0.015256  0.394481               0.015385      0.269841   \n",
       "262       0.000162  0.085892               0.015385      0.587302   \n",
       "828       0.005332  0.150019               0.010256      0.349206   \n",
       "\n",
       "     description_length  tag_count  like_dislike_ratio  weekend  season_0  \\\n",
       "59             0.045553   0.161765            0.800857        1         0   \n",
       "13             0.006236   0.044118            0.952228        0         0   \n",
       "649            0.131508   0.220588            0.973082        0         1   \n",
       "262            0.085141   0.367647            0.689067        0         1   \n",
       "828            0.143980   0.088235            0.976658        0         0   \n",
       "\n",
       "     season_1  season_3  day_part_0  day_part_1  day_part_3  review  apple  \\\n",
       "59          0         1           0           0           1       0      0   \n",
       "13          0         1           0           0           1       0      0   \n",
       "649         0         0           0           1           0       1      0   \n",
       "262         0         0           0           0           1       0      0   \n",
       "828         0         1           0           0           1       0      0   \n",
       "\n",
       "     google  samsung  tesla  \n",
       "59        0        0      0  \n",
       "13        0        0      0  \n",
       "649       1        0      0  \n",
       "262       0        0      0  \n",
       "828       0        0      0  "
      ]
     },
     "execution_count": 9,
     "metadata": {},
     "output_type": "execute_result"
    }
   ],
   "source": [
    "scaler = MinMaxScaler()\n",
    "\n",
    "X_train_num_scaled = pd.DataFrame(scaler.fit_transform(X_train_num), columns = X_train_num.columns, index = X_train_num.index)\n",
    "X_test_num_scaled = pd.DataFrame(scaler.transform(X_test_num), columns = X_test_num.columns, index = X_test_num.index)\n",
    "\n",
    "X_train_scaled = pd.concat([X_train_num_scaled, X_train_cat], axis = 1)\n",
    "X_test_scaled = pd.concat([X_test_num_scaled, X_test_cat], axis = 1)\n",
    "\n",
    "X_train_scaled.head()\n",
    "#scaling numerical predictors and merging back with categorical predictors"
   ]
  },
  {
   "cell_type": "markdown",
   "metadata": {},
   "source": [
    "## Creating a function for validating models"
   ]
  },
  {
   "cell_type": "code",
   "execution_count": 10,
   "metadata": {
    "ExecuteTime": {
     "end_time": "2019-11-27T10:47:11.421193Z",
     "start_time": "2019-11-27T10:47:11.415382Z"
    }
   },
   "outputs": [],
   "source": [
    "def train_vs_test(model, X_train, X_test, y_train, y_test):\n",
    "    \n",
    "    r_2_train = np.mean(cross_val_score(model, X_train, y_train, cv = 5))\n",
    "    \n",
    "    y_test_hat = model.predict(X_test)\n",
    "    r_2_test = r2_score(y_test, y_test_hat)\n",
    "    \n",
    "    #return print(('The R^2 for the train set is {} \\nThe R^2 for the test set is {} '.format(round(r_2_train, 4), round( r_2_test, 4))))\n",
    "    return r_2_train, r_2_test"
   ]
  },
  {
   "cell_type": "markdown",
   "metadata": {},
   "source": [
    "## First Model - All predictors in feature space"
   ]
  },
  {
   "cell_type": "code",
   "execution_count": 11,
   "metadata": {
    "ExecuteTime": {
     "end_time": "2019-11-27T10:47:11.457979Z",
     "start_time": "2019-11-27T10:47:11.431839Z"
    }
   },
   "outputs": [],
   "source": [
    "linreg = LinearRegression()\n",
    "model_1 = linreg.fit(X_train_scaled, y_train)"
   ]
  },
  {
   "cell_type": "code",
   "execution_count": 12,
   "metadata": {
    "ExecuteTime": {
     "end_time": "2019-11-27T10:47:11.535546Z",
     "start_time": "2019-11-27T10:47:11.462788Z"
    }
   },
   "outputs": [
    {
     "data": {
      "text/plain": [
       "(0.3400760463682079, -0.6795568271693275)"
      ]
     },
     "execution_count": 12,
     "metadata": {},
     "output_type": "execute_result"
    }
   ],
   "source": [
    "train_vs_test(model_1, X_train_scaled, X_test_scaled, y_train, y_test)\n",
    "#considerable overfitting "
   ]
  },
  {
   "cell_type": "markdown",
   "metadata": {
    "ExecuteTime": {
     "end_time": "2019-11-27T08:33:33.080228Z",
     "start_time": "2019-11-27T08:33:33.072377Z"
    }
   },
   "source": [
    "## Removing predictors from feature space to reduce overfitting"
   ]
  },
  {
   "cell_type": "markdown",
   "metadata": {},
   "source": [
    "### Using coefficients"
   ]
  },
  {
   "cell_type": "code",
   "execution_count": 13,
   "metadata": {
    "ExecuteTime": {
     "end_time": "2019-11-27T10:47:11.567204Z",
     "start_time": "2019-11-27T10:47:11.539982Z"
    }
   },
   "outputs": [
    {
     "data": {
      "text/html": [
       "<div>\n",
       "<style scoped>\n",
       "    .dataframe tbody tr th:only-of-type {\n",
       "        vertical-align: middle;\n",
       "    }\n",
       "\n",
       "    .dataframe tbody tr th {\n",
       "        vertical-align: top;\n",
       "    }\n",
       "\n",
       "    .dataframe thead th {\n",
       "        text-align: right;\n",
       "    }\n",
       "</style>\n",
       "<table border=\"1\" class=\"dataframe\">\n",
       "  <thead>\n",
       "    <tr style=\"text-align: right;\">\n",
       "      <th></th>\n",
       "      <th>predictor</th>\n",
       "      <th>coefficient_abs</th>\n",
       "    </tr>\n",
       "  </thead>\n",
       "  <tbody>\n",
       "    <tr>\n",
       "      <th>1</th>\n",
       "      <td>duration</td>\n",
       "      <td>6794499</td>\n",
       "    </tr>\n",
       "    <tr>\n",
       "      <th>0</th>\n",
       "      <td>comment_count</td>\n",
       "      <td>6456926</td>\n",
       "    </tr>\n",
       "    <tr>\n",
       "      <th>5</th>\n",
       "      <td>tag_count</td>\n",
       "      <td>1569923</td>\n",
       "    </tr>\n",
       "    <tr>\n",
       "      <th>15</th>\n",
       "      <td>google</td>\n",
       "      <td>1267364</td>\n",
       "    </tr>\n",
       "    <tr>\n",
       "      <th>4</th>\n",
       "      <td>description_length</td>\n",
       "      <td>1026335</td>\n",
       "    </tr>\n",
       "    <tr>\n",
       "      <th>18</th>\n",
       "      <td>like_dislike_ratio</td>\n",
       "      <td>1016551</td>\n",
       "    </tr>\n",
       "    <tr>\n",
       "      <th>17</th>\n",
       "      <td>tesla</td>\n",
       "      <td>795983</td>\n",
       "    </tr>\n",
       "    <tr>\n",
       "      <th>14</th>\n",
       "      <td>apple</td>\n",
       "      <td>688204</td>\n",
       "    </tr>\n",
       "    <tr>\n",
       "      <th>2</th>\n",
       "      <td>days_after_last_video</td>\n",
       "      <td>454361</td>\n",
       "    </tr>\n",
       "    <tr>\n",
       "      <th>10</th>\n",
       "      <td>day_part_0</td>\n",
       "      <td>292941</td>\n",
       "    </tr>\n",
       "    <tr>\n",
       "      <th>3</th>\n",
       "      <td>title_length</td>\n",
       "      <td>244486</td>\n",
       "    </tr>\n",
       "    <tr>\n",
       "      <th>9</th>\n",
       "      <td>season_3</td>\n",
       "      <td>226857</td>\n",
       "    </tr>\n",
       "    <tr>\n",
       "      <th>16</th>\n",
       "      <td>samsung</td>\n",
       "      <td>121750</td>\n",
       "    </tr>\n",
       "    <tr>\n",
       "      <th>6</th>\n",
       "      <td>weekend</td>\n",
       "      <td>95984</td>\n",
       "    </tr>\n",
       "    <tr>\n",
       "      <th>11</th>\n",
       "      <td>day_part_1</td>\n",
       "      <td>81970</td>\n",
       "    </tr>\n",
       "    <tr>\n",
       "      <th>13</th>\n",
       "      <td>review</td>\n",
       "      <td>61750</td>\n",
       "    </tr>\n",
       "    <tr>\n",
       "      <th>12</th>\n",
       "      <td>day_part_3</td>\n",
       "      <td>42109</td>\n",
       "    </tr>\n",
       "    <tr>\n",
       "      <th>7</th>\n",
       "      <td>season_0</td>\n",
       "      <td>9137</td>\n",
       "    </tr>\n",
       "    <tr>\n",
       "      <th>8</th>\n",
       "      <td>season_1</td>\n",
       "      <td>8069</td>\n",
       "    </tr>\n",
       "  </tbody>\n",
       "</table>\n",
       "</div>"
      ],
      "text/plain": [
       "                predictor  coefficient_abs\n",
       "1                duration          6794499\n",
       "0           comment_count          6456926\n",
       "5               tag_count          1569923\n",
       "15                 google          1267364\n",
       "4      description_length          1026335\n",
       "18     like_dislike_ratio          1016551\n",
       "17                  tesla           795983\n",
       "14                  apple           688204\n",
       "2   days_after_last_video           454361\n",
       "10             day_part_0           292941\n",
       "3            title_length           244486\n",
       "9                season_3           226857\n",
       "16                samsung           121750\n",
       "6                 weekend            95984\n",
       "11             day_part_1            81970\n",
       "13                 review            61750\n",
       "12             day_part_3            42109\n",
       "7                season_0             9137\n",
       "8                season_1             8069"
      ]
     },
     "execution_count": 13,
     "metadata": {},
     "output_type": "execute_result"
    }
   ],
   "source": [
    "model_1_coeff = pd.DataFrame(list(zip(X.columns, model_1.coef_)), columns = ['predictor', 'coefficient_abs'])\n",
    "model_1_coeff['coefficient_abs'] = model_1_coeff['coefficient_abs'].map(abs).astype('int')\n",
    "model_1_coeff.sort_values(by = 'coefficient_abs', ascending = False)\n",
    "#season_0 and season_1 predictors have considerably smaller coefficients than rest of predictors"
   ]
  },
  {
   "cell_type": "code",
   "execution_count": 14,
   "metadata": {
    "ExecuteTime": {
     "end_time": "2019-11-27T10:47:11.579917Z",
     "start_time": "2019-11-27T10:47:11.569987Z"
    }
   },
   "outputs": [],
   "source": [
    "X_train_scaled.drop(columns = ['season_0', 'season_1'], inplace = True)\n",
    "X_test_scaled.drop(columns = ['season_0', 'season_1'], inplace = True)\n",
    "#removing season_0 and season_1 predictors from training and test sets"
   ]
  },
  {
   "cell_type": "markdown",
   "metadata": {},
   "source": [
    "### Using threshold feature variance selection"
   ]
  },
  {
   "cell_type": "markdown",
   "metadata": {
    "ExecuteTime": {
     "end_time": "2019-11-27T08:37:32.243596Z",
     "start_time": "2019-11-27T08:37:32.240238Z"
    }
   },
   "source": [
    "#### Numerical predictors"
   ]
  },
  {
   "cell_type": "code",
   "execution_count": 15,
   "metadata": {
    "ExecuteTime": {
     "end_time": "2019-11-27T10:47:11.609304Z",
     "start_time": "2019-11-27T10:47:11.583433Z"
    }
   },
   "outputs": [
    {
     "data": {
      "text/html": [
       "<div>\n",
       "<style scoped>\n",
       "    .dataframe tbody tr th:only-of-type {\n",
       "        vertical-align: middle;\n",
       "    }\n",
       "\n",
       "    .dataframe tbody tr th {\n",
       "        vertical-align: top;\n",
       "    }\n",
       "\n",
       "    .dataframe thead th {\n",
       "        text-align: right;\n",
       "    }\n",
       "</style>\n",
       "<table border=\"1\" class=\"dataframe\">\n",
       "  <thead>\n",
       "    <tr style=\"text-align: right;\">\n",
       "      <th></th>\n",
       "      <th>predictor</th>\n",
       "      <th>scaled_variance</th>\n",
       "    </tr>\n",
       "  </thead>\n",
       "  <tbody>\n",
       "    <tr>\n",
       "      <th>0</th>\n",
       "      <td>comment_count</td>\n",
       "      <td>0.001879</td>\n",
       "    </tr>\n",
       "    <tr>\n",
       "      <th>2</th>\n",
       "      <td>days_after_last_video</td>\n",
       "      <td>0.002040</td>\n",
       "    </tr>\n",
       "    <tr>\n",
       "      <th>4</th>\n",
       "      <td>description_length</td>\n",
       "      <td>0.005012</td>\n",
       "    </tr>\n",
       "    <tr>\n",
       "      <th>1</th>\n",
       "      <td>duration</td>\n",
       "      <td>0.007927</td>\n",
       "    </tr>\n",
       "    <tr>\n",
       "      <th>6</th>\n",
       "      <td>like_dislike_ratio</td>\n",
       "      <td>0.013455</td>\n",
       "    </tr>\n",
       "    <tr>\n",
       "      <th>5</th>\n",
       "      <td>tag_count</td>\n",
       "      <td>0.017814</td>\n",
       "    </tr>\n",
       "    <tr>\n",
       "      <th>3</th>\n",
       "      <td>title_length</td>\n",
       "      <td>0.022584</td>\n",
       "    </tr>\n",
       "  </tbody>\n",
       "</table>\n",
       "</div>"
      ],
      "text/plain": [
       "               predictor  scaled_variance\n",
       "0          comment_count         0.001879\n",
       "2  days_after_last_video         0.002040\n",
       "4     description_length         0.005012\n",
       "1               duration         0.007927\n",
       "6     like_dislike_ratio         0.013455\n",
       "5              tag_count         0.017814\n",
       "3           title_length         0.022584"
      ]
     },
     "execution_count": 15,
     "metadata": {},
     "output_type": "execute_result"
    }
   ],
   "source": [
    "num_vars = pd.DataFrame(X_train_num_scaled.var()).reset_index()\n",
    "num_vars.columns = ['predictor', 'scaled_variance']\n",
    "num_vars.sort_values(by = 'scaled_variance')\n",
    "#no predictor has an particularly small scaled variance"
   ]
  },
  {
   "cell_type": "markdown",
   "metadata": {},
   "source": [
    "#### Categorical predictors"
   ]
  },
  {
   "cell_type": "code",
   "execution_count": 16,
   "metadata": {
    "ExecuteTime": {
     "end_time": "2019-11-27T10:47:11.638865Z",
     "start_time": "2019-11-27T10:47:11.612131Z"
    }
   },
   "outputs": [
    {
     "data": {
      "text/html": [
       "<div>\n",
       "<style scoped>\n",
       "    .dataframe tbody tr th:only-of-type {\n",
       "        vertical-align: middle;\n",
       "    }\n",
       "\n",
       "    .dataframe tbody tr th {\n",
       "        vertical-align: top;\n",
       "    }\n",
       "\n",
       "    .dataframe thead th {\n",
       "        text-align: right;\n",
       "    }\n",
       "</style>\n",
       "<table border=\"1\" class=\"dataframe\">\n",
       "  <thead>\n",
       "    <tr style=\"text-align: right;\">\n",
       "      <th></th>\n",
       "      <th>predictor</th>\n",
       "      <th>binomial_variance</th>\n",
       "    </tr>\n",
       "  </thead>\n",
       "  <tbody>\n",
       "    <tr>\n",
       "      <th>9</th>\n",
       "      <td>tesla</td>\n",
       "      <td>0.016588</td>\n",
       "    </tr>\n",
       "    <tr>\n",
       "      <th>7</th>\n",
       "      <td>google</td>\n",
       "      <td>0.069686</td>\n",
       "    </tr>\n",
       "    <tr>\n",
       "      <th>8</th>\n",
       "      <td>samsung</td>\n",
       "      <td>0.078181</td>\n",
       "    </tr>\n",
       "    <tr>\n",
       "      <th>6</th>\n",
       "      <td>apple</td>\n",
       "      <td>0.093668</td>\n",
       "    </tr>\n",
       "    <tr>\n",
       "      <th>2</th>\n",
       "      <td>day_part_0</td>\n",
       "      <td>0.127224</td>\n",
       "    </tr>\n",
       "    <tr>\n",
       "      <th>0</th>\n",
       "      <td>weekend</td>\n",
       "      <td>0.177422</td>\n",
       "    </tr>\n",
       "    <tr>\n",
       "      <th>5</th>\n",
       "      <td>review</td>\n",
       "      <td>0.200144</td>\n",
       "    </tr>\n",
       "    <tr>\n",
       "      <th>4</th>\n",
       "      <td>day_part_3</td>\n",
       "      <td>0.210583</td>\n",
       "    </tr>\n",
       "    <tr>\n",
       "      <th>1</th>\n",
       "      <td>season_3</td>\n",
       "      <td>0.213217</td>\n",
       "    </tr>\n",
       "    <tr>\n",
       "      <th>3</th>\n",
       "      <td>day_part_1</td>\n",
       "      <td>0.249947</td>\n",
       "    </tr>\n",
       "  </tbody>\n",
       "</table>\n",
       "</div>"
      ],
      "text/plain": [
       "    predictor  binomial_variance\n",
       "9       tesla           0.016588\n",
       "7      google           0.069686\n",
       "8     samsung           0.078181\n",
       "6       apple           0.093668\n",
       "2  day_part_0           0.127224\n",
       "0     weekend           0.177422\n",
       "5      review           0.200144\n",
       "4  day_part_3           0.210583\n",
       "1    season_3           0.213217\n",
       "3  day_part_1           0.249947"
      ]
     },
     "execution_count": 16,
     "metadata": {},
     "output_type": "execute_result"
    }
   ],
   "source": [
    "X_train_cat = X_train[['weekend','season_3', 'day_part_0', 'day_part_1', 'day_part_3',\n",
    "                       'review', 'apple', 'google' , 'samsung', 'tesla']]\n",
    "cat_probs = X_train_cat.sum() / len(X_train_cat)\n",
    "cat_vars = pd.DataFrame(cat_probs * (1 - cat_probs)).reset_index()\n",
    "cat_vars.columns = ['predictor', 'binomial_variance']\n",
    "cat_vars.sort_values(by = 'binomial_variance')\n",
    "#tesla predictor has a considerably smaller binomial variance than rest of predictors"
   ]
  },
  {
   "cell_type": "code",
   "execution_count": 17,
   "metadata": {
    "ExecuteTime": {
     "end_time": "2019-11-27T10:47:11.657705Z",
     "start_time": "2019-11-27T10:47:11.642619Z"
    }
   },
   "outputs": [],
   "source": [
    "X_train_scaled.drop(columns = ['tesla'], inplace = True)\n",
    "X_test_scaled.drop(columns = ['tesla'], inplace = True)\n",
    "#removing tesla predictor from training and test sets"
   ]
  },
  {
   "cell_type": "markdown",
   "metadata": {},
   "source": [
    "### Using recursive feature elimination to select top n predictors"
   ]
  },
  {
   "cell_type": "code",
   "execution_count": 18,
   "metadata": {
    "ExecuteTime": {
     "end_time": "2019-11-27T10:47:12.506773Z",
     "start_time": "2019-11-27T10:47:11.661284Z"
    }
   },
   "outputs": [
    {
     "data": {
      "image/png": "[encoded data removed]",
      "text/plain": [
       "<Figure size 432x288 with 1 Axes>"
      ]
     },
     "metadata": {
      "needs_background": "light"
     },
     "output_type": "display_data"
    }
   ],
   "source": [
    "predictor_counts = []\n",
    "train_r2_vals = []\n",
    "test_r2_vals = []\n",
    "\n",
    "for i in range(1,17):   \n",
    "    rfe_n = RFE(estimator=linreg, n_features_to_select= i)\n",
    "    rfe_n.fit_transform(X_train_scaled, y_train)\n",
    "    keep_predictors_index_n = [i[0] for i in list(enumerate(rfe_n.support_)) if i[1] == True]\n",
    "    keep_predictors_n = list(X_train_scaled.columns[keep_predictors_index_n])\n",
    "    predictor_counts.append(len(keep_predictors_n))\n",
    "    X_train_scaled_n = X_train_scaled[keep_predictors_n]\n",
    "    X_test_scaled_n = X_test_scaled[keep_predictors_n]\n",
    "    model_n = linreg.fit(X_train_scaled_n, y_train)\n",
    "    r2_train_n, r2_test_n = train_vs_test(model_n, X_train_scaled_n, X_test_scaled_n, y_train, y_test)\n",
    "    train_r2_vals.append(r2_train_n)\n",
    "    test_r2_vals.append(r2_test_n)\n",
    "plt.plot(predictor_counts, test_r2_vals, color = 'red')\n",
    "plt.plot(predictor_counts, train_r2_vals, color = 'green');\n",
    "# test r^2 stagnates past 11 predictors"
   ]
  },
  {
   "cell_type": "code",
   "execution_count": 19,
   "metadata": {
    "ExecuteTime": {
     "end_time": "2019-11-27T10:47:12.549359Z",
     "start_time": "2019-11-27T10:47:12.511620Z"
    }
   },
   "outputs": [
    {
     "data": {
      "text/plain": [
       "['comment_count',\n",
       " 'duration',\n",
       " 'days_after_last_video',\n",
       " 'title_length',\n",
       " 'description_length',\n",
       " 'tag_count',\n",
       " 'like_dislike_ratio',\n",
       " 'season_3',\n",
       " 'review',\n",
       " 'apple',\n",
       " 'samsung']"
      ]
     },
     "execution_count": 19,
     "metadata": {},
     "output_type": "execute_result"
    }
   ],
   "source": [
    "rfe = RFE(estimator=linreg, n_features_to_select= 11)\n",
    "rfe.fit_transform(X_train_scaled, y_train)\n",
    "keep_predictors_index = [i[0] for i in list(enumerate(rfe.support_)) if i[1] == True]\n",
    "keep_predictors = list(X_train_scaled.columns[keep_predictors_index])\n",
    "keep_predictors"
   ]
  },
  {
   "cell_type": "markdown",
   "metadata": {},
   "source": [
    "## Second Model - top 11 predictors in feature space"
   ]
  },
  {
   "cell_type": "code",
   "execution_count": 20,
   "metadata": {
    "ExecuteTime": {
     "end_time": "2019-11-27T10:47:12.567258Z",
     "start_time": "2019-11-27T10:47:12.552702Z"
    }
   },
   "outputs": [],
   "source": [
    "X_train_scaled = X_train_scaled[keep_predictors]\n",
    "X_test_scaled = X_test_scaled[keep_predictors]"
   ]
  },
  {
   "cell_type": "code",
   "execution_count": 21,
   "metadata": {
    "ExecuteTime": {
     "end_time": "2019-11-27T10:47:12.587422Z",
     "start_time": "2019-11-27T10:47:12.570855Z"
    }
   },
   "outputs": [],
   "source": [
    "model_2 = linreg.fit(X_train_scaled, y_train)"
   ]
  },
  {
   "cell_type": "code",
   "execution_count": 22,
   "metadata": {
    "ExecuteTime": {
     "end_time": "2019-11-27T10:47:12.634932Z",
     "start_time": "2019-11-27T10:47:12.591928Z"
    }
   },
   "outputs": [
    {
     "data": {
      "text/plain": [
       "(0.3425615357690878, -0.7495773598097815)"
      ]
     },
     "execution_count": 22,
     "metadata": {},
     "output_type": "execute_result"
    }
   ],
   "source": [
    "train_vs_test(model_2, X_train_scaled, X_test_scaled, y_train, y_test)\n",
    "#still considerable overfitting "
   ]
  },
  {
   "cell_type": "markdown",
   "metadata": {
    "ExecuteTime": {
     "end_time": "2019-11-26T14:10:40.475349Z",
     "start_time": "2019-11-26T14:10:40.470721Z"
    }
   },
   "source": [
    "## Third Model - adding interaction terms "
   ]
  },
  {
   "cell_type": "code",
   "execution_count": null,
   "metadata": {},
   "outputs": [],
   "source": [
    "poly = PolynomialFeatures(2, include_bias=False)\n",
    "X_train_poly = pd.DataFrame(poly.fit_transform(X_train_scaled), \n",
    "                            columns = poly.get_feature_names(X_train_scaled.columns))\n",
    "X_test_poly = pd.DataFrame(poly.transform(X_test_scaled), \n",
    "                            columns = poly.get_feature_names(X_test_scaled.columns))"
   ]
  },
  {
   "cell_type": "markdown",
   "metadata": {
    "ExecuteTime": {
     "end_time": "2019-11-27T10:57:51.750171Z",
     "start_time": "2019-11-27T10:57:51.745234Z"
    }
   },
   "source": [
    "### With l2 regularisation"
   ]
  },
  {
   "cell_type": "code",
   "execution_count": 38,
   "metadata": {
    "ExecuteTime": {
     "end_time": "2019-11-27T10:54:45.447637Z",
     "start_time": "2019-11-27T10:54:45.376078Z"
    }
   },
   "outputs": [
    {
     "data": {
      "text/plain": [
       "2.5"
      ]
     },
     "execution_count": 38,
     "metadata": {},
     "output_type": "execute_result"
    }
   ],
   "source": [
    "ridge_cv = RidgeCV(np.arange(0.5,5,0.5))\n",
    "model_cv = ridge_cv.fit(X_train_poly, y_train)\n",
    "model_cv.alpha_"
   ]
  },
  {
   "cell_type": "code",
   "execution_count": 39,
   "metadata": {
    "ExecuteTime": {
     "end_time": "2019-11-27T10:55:46.476337Z",
     "start_time": "2019-11-27T10:55:46.454565Z"
    }
   },
   "outputs": [],
   "source": [
    "ridge = Ridge(alpha = 2.5)\n",
    "model_3a = ridge.fit(X_train_poly, y_train)"
   ]
  },
  {
   "cell_type": "code",
   "execution_count": 40,
   "metadata": {
    "ExecuteTime": {
     "end_time": "2019-11-27T10:56:09.332567Z",
     "start_time": "2019-11-27T10:56:09.295782Z"
    }
   },
   "outputs": [
    {
     "data": {
      "text/plain": [
       "(0.40473730828579, 0.4299751772801965)"
      ]
     },
     "execution_count": 40,
     "metadata": {},
     "output_type": "execute_result"
    }
   ],
   "source": [
    "train_vs_test(model_3a, X_train_poly, X_test_poly, y_train, y_test)"
   ]
  },
  {
   "cell_type": "markdown",
   "metadata": {},
   "source": [
    "### With l1 regularisation"
   ]
  },
  {
   "cell_type": "code",
   "execution_count": 53,
   "metadata": {
    "ExecuteTime": {
     "end_time": "2019-11-27T11:09:35.969159Z",
     "start_time": "2019-11-27T11:09:35.787704Z"
    }
   },
   "outputs": [
    {
     "name": "stderr",
     "output_type": "stream",
     "text": [
      "/Users/jacktann/anaconda3/lib/python3.7/site-packages/sklearn/model_selection/_split.py:2053: FutureWarning: You should specify a value for 'cv' instead of relying on the default value. The default value will change from 3 to 5 in version 0.22.\n",
      "  warnings.warn(CV_WARNING, FutureWarning)\n",
      "/Users/jacktann/anaconda3/lib/python3.7/site-packages/sklearn/linear_model/coordinate_descent.py:492: ConvergenceWarning: Objective did not converge. You might want to increase the number of iterations. Fitting data with very small alpha may cause precision problems.\n",
      "  ConvergenceWarning)\n",
      "/Users/jacktann/anaconda3/lib/python3.7/site-packages/sklearn/linear_model/coordinate_descent.py:492: ConvergenceWarning: Objective did not converge. You might want to increase the number of iterations. Fitting data with very small alpha may cause precision problems.\n",
      "  ConvergenceWarning)\n",
      "/Users/jacktann/anaconda3/lib/python3.7/site-packages/sklearn/linear_model/coordinate_descent.py:492: ConvergenceWarning: Objective did not converge. You might want to increase the number of iterations. Fitting data with very small alpha may cause precision problems.\n",
      "  ConvergenceWarning)\n",
      "/Users/jacktann/anaconda3/lib/python3.7/site-packages/sklearn/linear_model/coordinate_descent.py:492: ConvergenceWarning: Objective did not converge. You might want to increase the number of iterations. Fitting data with very small alpha may cause precision problems.\n",
      "  ConvergenceWarning)\n",
      "/Users/jacktann/anaconda3/lib/python3.7/site-packages/sklearn/linear_model/coordinate_descent.py:492: ConvergenceWarning: Objective did not converge. You might want to increase the number of iterations. Fitting data with very small alpha may cause precision problems.\n",
      "  ConvergenceWarning)\n",
      "/Users/jacktann/anaconda3/lib/python3.7/site-packages/sklearn/linear_model/coordinate_descent.py:492: ConvergenceWarning: Objective did not converge. You might want to increase the number of iterations. Fitting data with very small alpha may cause precision problems.\n",
      "  ConvergenceWarning)\n",
      "/Users/jacktann/anaconda3/lib/python3.7/site-packages/sklearn/linear_model/coordinate_descent.py:492: ConvergenceWarning: Objective did not converge. You might want to increase the number of iterations. Fitting data with very small alpha may cause precision problems.\n",
      "  ConvergenceWarning)\n",
      "/Users/jacktann/anaconda3/lib/python3.7/site-packages/sklearn/linear_model/coordinate_descent.py:492: ConvergenceWarning: Objective did not converge. You might want to increase the number of iterations. Fitting data with very small alpha may cause precision problems.\n",
      "  ConvergenceWarning)\n",
      "/Users/jacktann/anaconda3/lib/python3.7/site-packages/sklearn/linear_model/coordinate_descent.py:492: ConvergenceWarning: Objective did not converge. You might want to increase the number of iterations. Fitting data with very small alpha may cause precision problems.\n",
      "  ConvergenceWarning)\n",
      "/Users/jacktann/anaconda3/lib/python3.7/site-packages/sklearn/linear_model/coordinate_descent.py:492: ConvergenceWarning: Objective did not converge. You might want to increase the number of iterations. Fitting data with very small alpha may cause precision problems.\n",
      "  ConvergenceWarning)\n",
      "/Users/jacktann/anaconda3/lib/python3.7/site-packages/sklearn/linear_model/coordinate_descent.py:492: ConvergenceWarning: Objective did not converge. You might want to increase the number of iterations. Fitting data with very small alpha may cause precision problems.\n",
      "  ConvergenceWarning)\n",
      "/Users/jacktann/anaconda3/lib/python3.7/site-packages/sklearn/linear_model/coordinate_descent.py:492: ConvergenceWarning: Objective did not converge. You might want to increase the number of iterations. Fitting data with very small alpha may cause precision problems.\n",
      "  ConvergenceWarning)\n",
      "/Users/jacktann/anaconda3/lib/python3.7/site-packages/sklearn/linear_model/coordinate_descent.py:492: ConvergenceWarning: Objective did not converge. You might want to increase the number of iterations. Fitting data with very small alpha may cause precision problems.\n",
      "  ConvergenceWarning)\n",
      "/Users/jacktann/anaconda3/lib/python3.7/site-packages/sklearn/linear_model/coordinate_descent.py:492: ConvergenceWarning: Objective did not converge. You might want to increase the number of iterations. Fitting data with very small alpha may cause precision problems.\n",
      "  ConvergenceWarning)\n",
      "/Users/jacktann/anaconda3/lib/python3.7/site-packages/sklearn/linear_model/coordinate_descent.py:492: ConvergenceWarning: Objective did not converge. You might want to increase the number of iterations. Fitting data with very small alpha may cause precision problems.\n",
      "  ConvergenceWarning)\n",
      "/Users/jacktann/anaconda3/lib/python3.7/site-packages/sklearn/linear_model/coordinate_descent.py:492: ConvergenceWarning: Objective did not converge. You might want to increase the number of iterations. Fitting data with very small alpha may cause precision problems.\n",
      "  ConvergenceWarning)\n"
     ]
    },
    {
     "data": {
      "text/plain": [
       "100"
      ]
     },
     "execution_count": 53,
     "metadata": {},
     "output_type": "execute_result"
    }
   ],
   "source": [
    "lasso_cv = LassoCV(alphas = np.arange(25,150,25))\n",
    "model_cv = lasso_cv.fit(X_train_poly, y_train)\n",
    "model_cv.alpha_"
   ]
  },
  {
   "cell_type": "code",
   "execution_count": 54,
   "metadata": {
    "ExecuteTime": {
     "end_time": "2019-11-27T11:09:59.868397Z",
     "start_time": "2019-11-27T11:09:59.798522Z"
    }
   },
   "outputs": [
    {
     "name": "stderr",
     "output_type": "stream",
     "text": [
      "/Users/jacktann/anaconda3/lib/python3.7/site-packages/sklearn/linear_model/coordinate_descent.py:492: ConvergenceWarning: Objective did not converge. You might want to increase the number of iterations. Fitting data with very small alpha may cause precision problems.\n",
      "  ConvergenceWarning)\n"
     ]
    }
   ],
   "source": [
    "lasso = Lasso(alpha = 100)\n",
    "model_3b = lasso.fit(X_train_poly, y_train)"
   ]
  },
  {
   "cell_type": "code",
   "execution_count": 55,
   "metadata": {
    "ExecuteTime": {
     "end_time": "2019-11-27T11:10:23.432467Z",
     "start_time": "2019-11-27T11:10:23.196954Z"
    }
   },
   "outputs": [
    {
     "name": "stderr",
     "output_type": "stream",
     "text": [
      "/Users/jacktann/anaconda3/lib/python3.7/site-packages/sklearn/linear_model/coordinate_descent.py:492: ConvergenceWarning: Objective did not converge. You might want to increase the number of iterations. Fitting data with very small alpha may cause precision problems.\n",
      "  ConvergenceWarning)\n",
      "/Users/jacktann/anaconda3/lib/python3.7/site-packages/sklearn/linear_model/coordinate_descent.py:492: ConvergenceWarning: Objective did not converge. You might want to increase the number of iterations. Fitting data with very small alpha may cause precision problems.\n",
      "  ConvergenceWarning)\n",
      "/Users/jacktann/anaconda3/lib/python3.7/site-packages/sklearn/linear_model/coordinate_descent.py:492: ConvergenceWarning: Objective did not converge. You might want to increase the number of iterations. Fitting data with very small alpha may cause precision problems.\n",
      "  ConvergenceWarning)\n",
      "/Users/jacktann/anaconda3/lib/python3.7/site-packages/sklearn/linear_model/coordinate_descent.py:492: ConvergenceWarning: Objective did not converge. You might want to increase the number of iterations. Fitting data with very small alpha may cause precision problems.\n",
      "  ConvergenceWarning)\n",
      "/Users/jacktann/anaconda3/lib/python3.7/site-packages/sklearn/linear_model/coordinate_descent.py:492: ConvergenceWarning: Objective did not converge. You might want to increase the number of iterations. Fitting data with very small alpha may cause precision problems.\n",
      "  ConvergenceWarning)\n"
     ]
    },
    {
     "data": {
      "text/plain": [
       "(-0.6608726704487587, -10.677132117011238)"
      ]
     },
     "execution_count": 55,
     "metadata": {},
     "output_type": "execute_result"
    }
   ],
   "source": [
    "train_vs_test(model_3b, X_train_poly, X_test_poly, y_train, y_test)"
   ]
  },
  {
   "cell_type": "markdown",
   "metadata": {},
   "source": [
    "## Final Model "
   ]
  },
  {
   "cell_type": "code",
   "execution_count": 58,
   "metadata": {
    "ExecuteTime": {
     "end_time": "2019-11-27T11:21:21.054453Z",
     "start_time": "2019-11-27T11:21:18.850322Z"
    }
   },
   "outputs": [
    {
     "data": {
      "image/png": "[encoded data removed]",
      "text/plain": [
       "<Figure size 432x288 with 1 Axes>"
      ]
     },
     "metadata": {
      "needs_background": "light"
     },
     "output_type": "display_data"
    }
   ],
   "source": [
    "predictor_counts = []\n",
    "train_r2_vals = []\n",
    "test_r2_vals = []\n",
    "\n",
    "for i in range(1,16):   \n",
    "    rfe_n = RFE(estimator=ridge, n_features_to_select= i)\n",
    "    rfe_n.fit_transform(X_train_poly, y_train)\n",
    "    keep_predictors_index_n = [i[0] for i in list(enumerate(rfe_n.support_)) if i[1] == True]\n",
    "    keep_predictors_n = list(X_train_poly.columns[keep_predictors_index_n])\n",
    "    predictor_counts.append(len(keep_predictors_n))\n",
    "    X_train_poly_n = X_train_poly[keep_predictors_n]\n",
    "    X_test_poly_n = X_test_poly[keep_predictors_n]\n",
    "    model_n = ridge.fit(X_train_poly_n, y_train)\n",
    "    r2_train_n, r2_test_n = train_vs_test(model_n, X_train_poly_n, X_test_poly_n, y_train, y_test)\n",
    "    train_r2_vals.append(r2_train_n)\n",
    "    test_r2_vals.append(r2_test_n)\n",
    "plt.plot(predictor_counts, test_r2_vals, color = 'red')\n",
    "plt.plot(predictor_counts, train_r2_vals, color = 'green');\n",
    "# test r^2 stagnates past 6 predictors"
   ]
  },
  {
   "cell_type": "code",
   "execution_count": 61,
   "metadata": {
    "ExecuteTime": {
     "end_time": "2019-11-27T11:24:54.604541Z",
     "start_time": "2019-11-27T11:24:54.471321Z"
    }
   },
   "outputs": [
    {
     "data": {
      "text/plain": [
       "['comment_count',\n",
       " 'duration',\n",
       " 'comment_count like_dislike_ratio',\n",
       " 'duration^2',\n",
       " 'duration like_dislike_ratio',\n",
       " 'duration review']"
      ]
     },
     "execution_count": 61,
     "metadata": {},
     "output_type": "execute_result"
    }
   ],
   "source": [
    "rfe = RFE(estimator=ridge, n_features_to_select= 6)\n",
    "rfe.fit_transform(X_train_poly, y_train)\n",
    "keep_poly_predictors_index = [i[0] for i in list(enumerate(rfe.support_)) if i[1] == True]\n",
    "keep_poly_predictors = list(X_train_poly.columns[keep_poly_predictors_index])\n",
    "keep_poly_predictors"
   ]
  },
  {
   "cell_type": "code",
   "execution_count": 62,
   "metadata": {
    "ExecuteTime": {
     "end_time": "2019-11-27T11:25:22.296180Z",
     "start_time": "2019-11-27T11:25:22.277483Z"
    }
   },
   "outputs": [],
   "source": [
    "X_train_poly = X_train_poly[keep_poly_predictors]\n",
    "X_test_poly = X_test_poly[keep_poly_predictors]"
   ]
  },
  {
   "cell_type": "code",
   "execution_count": 63,
   "metadata": {
    "ExecuteTime": {
     "end_time": "2019-11-27T11:25:48.832362Z",
     "start_time": "2019-11-27T11:25:48.823223Z"
    }
   },
   "outputs": [],
   "source": [
    "model_final = ridge.fit(X_train_poly, y_train)"
   ]
  },
  {
   "cell_type": "code",
   "execution_count": 64,
   "metadata": {
    "ExecuteTime": {
     "end_time": "2019-11-27T11:26:11.525042Z",
     "start_time": "2019-11-27T11:26:11.493595Z"
    }
   },
   "outputs": [
    {
     "data": {
      "text/plain": [
       "(0.33043960425008184, 0.31887492951438257)"
      ]
     },
     "execution_count": 64,
     "metadata": {},
     "output_type": "execute_result"
    }
   ],
   "source": [
    "train_vs_test(model_final, X_train_poly, X_test_poly, y_train, y_test)"
   ]
  }
 ],
 "metadata": {
  "kernelspec": {
   "display_name": "Python 3",
   "language": "python",
   "name": "python3"
  },
  "language_info": {
   "codemirror_mode": {
    "name": "ipython",
    "version": 3
   },
   "file_extension": ".py",
   "mimetype": "text/x-python",
   "name": "python",
   "nbconvert_exporter": "python",
   "pygments_lexer": "ipython3",
   "version": "3.7.3"
  },
  "toc": {
   "base_numbering": 1,
   "nav_menu": {},
   "number_sections": true,
   "sideBar": true,
   "skip_h1_title": true,
   "title_cell": "Table of Contents",
   "title_sidebar": "Contents",
   "toc_cell": false,
   "toc_position": {},
   "toc_section_display": true,
   "toc_window_display": false
  },
  "varInspector": {
   "cols": {
    "lenName": 16,
    "lenType": 16,
    "lenVar": 40
   },
   "kernels_config": {
    "python": {
     "delete_cmd_postfix": "",
     "delete_cmd_prefix": "del ",
     "library": "var_list.py",
     "varRefreshCmd": "print(var_dic_list())"
    },
    "r": {
     "delete_cmd_postfix": ") ",
     "delete_cmd_prefix": "rm(",
     "library": "var_list.r",
     "varRefreshCmd": "cat(var_dic_list()) "
    }
   },
   "types_to_exclude": [
    "module",
    "function",
    "builtin_function_or_method",
    "instance",
    "_Feature"
   ],
   "window_display": false
  }
 },
 "nbformat": 4,
 "nbformat_minor": 2
}
