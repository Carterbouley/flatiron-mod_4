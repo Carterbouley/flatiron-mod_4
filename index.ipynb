{
 "cells": [
  {
   "cell_type": "markdown",
   "metadata": {},
   "source": [
    "## Impoting libaries"
   ]
  },
  {
   "cell_type": "code",
   "execution_count": 1,
   "metadata": {
    "ExecuteTime": {
     "end_time": "2019-11-25T08:04:01.483246Z",
     "start_time": "2019-11-25T08:03:58.432409Z"
    }
   },
   "outputs": [],
   "source": [
    "import numpy as np\n",
    "import pandas as pd\n",
    "import matplotlib.pyplot as plt\n",
    "import seaborn as sns\n",
    "import requests \n",
    "import json\n",
    "import isodate"
   ]
  },
  {
   "cell_type": "markdown",
   "metadata": {},
   "source": [
    "## Building a YouTube api request object"
   ]
  },
  {
   "cell_type": "code",
   "execution_count": 2,
   "metadata": {
    "ExecuteTime": {
     "end_time": "2019-11-25T08:04:01.562717Z",
     "start_time": "2019-11-25T08:04:01.486782Z"
    }
   },
   "outputs": [],
   "source": [
    "from apiclient.discovery import build\n",
    "def build_api_request():\n",
    "    key = json.load(open(\".secret/api_key.json\"))['api_key']\n",
    "    return build(\"youtube\", \"v3\", developerKey=key)"
   ]
  },
  {
   "cell_type": "code",
   "execution_count": 3,
   "metadata": {
    "ExecuteTime": {
     "end_time": "2019-11-25T08:04:01.777748Z",
     "start_time": "2019-11-25T08:04:01.566455Z"
    }
   },
   "outputs": [],
   "source": [
    "youtube = build_api_request()"
   ]
  },
  {
   "cell_type": "markdown",
   "metadata": {},
   "source": [
    "## Searching for the top n channels for a topic"
   ]
  },
  {
   "cell_type": "code",
   "execution_count": 4,
   "metadata": {
    "ExecuteTime": {
     "end_time": "2019-11-25T08:04:01.790146Z",
     "start_time": "2019-11-25T08:04:01.781578Z"
    }
   },
   "outputs": [],
   "source": [
    "def top_n_channels(topic_id, n):\n",
    "    req = youtube.search().list(topicId = topic_id, part = 'snippet', type = 'channel',\n",
    "                                order = 'viewCount', maxResults = n).execute()\n",
    "    channel_ids = [channel['id']['channelId'] for channel in req['items']]\n",
    "    req = youtube.channels().list(part = \"snippet,statistics\", id = ', '.join(channel_ids)).execute()\n",
    "    channels = []\n",
    "    for channel in req['items']:\n",
    "        channels.append({'channel_name': channel['snippet']['title'], \n",
    "                         'channel_id': channel['id'],\n",
    "                         'video_count': int(channel['statistics']['videoCount']),\n",
    "                         'subscriber_count': int(channel['statistics']['subscriberCount'])})\n",
    "    channels_df = pd.DataFrame.from_dict(channels)\n",
    "    return channels_df.sort_values(by = 'subscriber_count', ascending=False)"
   ]
  },
  {
   "cell_type": "markdown",
   "metadata": {},
   "source": [
    "## Requesting all videos for a channel"
   ]
  },
  {
   "cell_type": "code",
   "execution_count": 5,
   "metadata": {
    "ExecuteTime": {
     "end_time": "2019-11-25T08:04:01.802454Z",
     "start_time": "2019-11-25T08:04:01.792886Z"
    }
   },
   "outputs": [],
   "source": [
    "def get_channel_videos(channel_id):\n",
    "    res = youtube.channels().list(id = channel_id, part = 'contentDetails').execute()\n",
    "    playlist_id = res['items'][0]['contentDetails']['relatedPlaylists']['uploads']\n",
    "    next_page_token = None\n",
    "    videos = []\n",
    "    while True:\n",
    "        res = youtube.playlistItems().list(playlistId = playlist_id, \n",
    "                                           part = 'snippet', \n",
    "                                           maxResults = 50,\n",
    "                                           pageToken = next_page_token).execute()\n",
    "        video_ids = [x['snippet']['resourceId']['videoId'] for x in res['items']]\n",
    "        next_page_token = res.get('nextPageToken')\n",
    "        res = youtube.videos().list(id = ', '.join(video_ids), \n",
    "                                    part = 'snippet,contentDetails,statistics').execute()\n",
    "        videos += res['items']\n",
    "        if next_page_token is None:\n",
    "            break\n",
    "    return videos"
   ]
  },
  {
   "cell_type": "markdown",
   "metadata": {},
   "source": [
    "## Converting an api request into a dataframe"
   ]
  },
  {
   "cell_type": "code",
   "execution_count": 6,
   "metadata": {
    "ExecuteTime": {
     "end_time": "2019-11-25T08:04:01.817173Z",
     "start_time": "2019-11-25T08:04:01.806690Z"
    }
   },
   "outputs": [],
   "source": [
    "def get_video_attributes(videos):\n",
    "    video_list = []\n",
    "    for video in videos:\n",
    "        video_list.append({'title': video['snippet']['title'],\n",
    "                           'description': video.get('snippet', {}).get('description'), \n",
    "                           'publish_time': video.get('snippet', {}).get('publishedAt'),\n",
    "                           'tags': video.get('snippet', {}).get('tags'),\n",
    "                           'duration': video.get('contentDetails', {}).get('duration'),\n",
    "                           'like_count': video.get('statistics', {}).get('likeCount'),\n",
    "                           'dislike_count': video.get('statistics', {}).get('dislikeCount'),\n",
    "                           'comment_count': video.get('statistics', {}).get('commentCount'),\n",
    "                           'live': video.get('snippet', {}).get('liveBroadcastContent'),\n",
    "                           'view_count': video.get('statistics', {}).get('viewCount')})\n",
    "    return pd.DataFrame.from_dict(video_list)"
   ]
  },
  {
   "cell_type": "markdown",
   "metadata": {},
   "source": [
    "## Transforming the dataframe for regression model"
   ]
  },
  {
   "cell_type": "code",
   "execution_count": 7,
   "metadata": {
    "ExecuteTime": {
     "end_time": "2019-11-25T08:04:01.835938Z",
     "start_time": "2019-11-25T08:04:01.820045Z"
    }
   },
   "outputs": [],
   "source": [
    "def transform_video_attributes(df):\n",
    "    df.dropna(inplace=True)\n",
    "    df['duration'] = pd.to_datetime(df['duration'].map(lambda x: isodate.parse_duration(x))).map(lambda x: x.minute).astype('int')\n",
    "    df['publish_time'] = pd.to_datetime(df['publish_time'])\n",
    "    time_split = pd.DataFrame(df['publish_time'].map(lambda x: [x.hour, x.weekday(), x.month, x.date()]).to_list(), \n",
    "                              columns = ['publish_hour', 'publish_day', 'publish_month', 'publish_date'])\n",
    "    df = pd.concat([df, time_split], axis = 1)\n",
    "    df.dropna(inplace=True)\n",
    "    df['publish_date'] = pd.to_datetime(df['publish_date'])\n",
    "    df.sort_values(by = 'publish_date', inplace = True)\n",
    "    df['days_after_last_video'] = df['publish_date'].diff(periods = 1)\n",
    "    df.dropna(inplace=True)\n",
    "    df['days_after_last_video'] = df['days_after_last_video'].map(lambda x: x.days).astype('int')\n",
    "    for col in ['duration', 'publish_hour', 'publish_day', 'publish_month', 'comment_count', 'like_count', 'dislike_count', 'view_count']:\n",
    "        df[col] = df[col].astype('int')\n",
    "    df[['title_length', 'description_length', 'tag_count']] = df[['title', 'description', 'tags']].applymap(len)\n",
    "    df['live'] = df['live'].map(lambda x: 0 if 'none' else 1) \n",
    "    df.drop(columns = ['description', 'publish_time'], inplace = True)\n",
    "    return df"
   ]
  },
  {
   "cell_type": "markdown",
   "metadata": {},
   "source": [
    "## Creating a complete dataframe from the channel id"
   ]
  },
  {
   "cell_type": "code",
   "execution_count": 8,
   "metadata": {
    "ExecuteTime": {
     "end_time": "2019-11-25T08:04:01.851707Z",
     "start_time": "2019-11-25T08:04:01.841530Z"
    }
   },
   "outputs": [],
   "source": [
    "def create_channel_df(channel_id):\n",
    "    videos = get_channel_videos(channel_id)\n",
    "    df = get_video_attributes(videos)\n",
    "    transformed_df = transform_video_attributes(df)\n",
    "    return transformed_df"
   ]
  },
  {
   "cell_type": "code",
   "execution_count": null,
   "metadata": {},
   "outputs": [],
   "source": []
  },
  {
   "cell_type": "code",
   "execution_count": null,
   "metadata": {},
   "outputs": [],
   "source": []
  },
  {
   "cell_type": "code",
   "execution_count": null,
   "metadata": {},
   "outputs": [],
   "source": []
  },
  {
   "cell_type": "markdown",
   "metadata": {},
   "source": [
    "## Creating a dictionary of topics"
   ]
  },
  {
   "cell_type": "code",
   "execution_count": 9,
   "metadata": {
    "ExecuteTime": {
     "end_time": "2019-11-25T08:04:01.864619Z",
     "start_time": "2019-11-25T08:04:01.856486Z"
    }
   },
   "outputs": [],
   "source": [
    "topic_ids = {'football': '/m/02vx4', 'boxing': '/m/01cgz', \n",
    "             'food': '/m/02wbm', 'fitness': '/m/027x7n', \n",
    "             'tech': '/m/07c1v', 'gaming': '/m/0bzvm2' }"
   ]
  },
  {
   "cell_type": "markdown",
   "metadata": {},
   "source": [
    "## Searching for top 25 tech channels"
   ]
  },
  {
   "cell_type": "code",
   "execution_count": 10,
   "metadata": {
    "ExecuteTime": {
     "end_time": "2019-11-25T08:04:02.795402Z",
     "start_time": "2019-11-25T08:04:01.868078Z"
    }
   },
   "outputs": [
    {
     "data": {
      "text/html": [
       "<div>\n",
       "<style scoped>\n",
       "    .dataframe tbody tr th:only-of-type {\n",
       "        vertical-align: middle;\n",
       "    }\n",
       "\n",
       "    .dataframe tbody tr th {\n",
       "        vertical-align: top;\n",
       "    }\n",
       "\n",
       "    .dataframe thead th {\n",
       "        text-align: right;\n",
       "    }\n",
       "</style>\n",
       "<table border=\"1\" class=\"dataframe\">\n",
       "  <thead>\n",
       "    <tr style=\"text-align: right;\">\n",
       "      <th></th>\n",
       "      <th>channel_id</th>\n",
       "      <th>channel_name</th>\n",
       "      <th>subscriber_count</th>\n",
       "      <th>video_count</th>\n",
       "    </tr>\n",
       "  </thead>\n",
       "  <tbody>\n",
       "    <tr>\n",
       "      <th>24</th>\n",
       "      <td>UCsTcErHg8oDvUnTzoqsYeNw</td>\n",
       "      <td>Unbox Therapy</td>\n",
       "      <td>15800000</td>\n",
       "      <td>1708</td>\n",
       "    </tr>\n",
       "    <tr>\n",
       "      <th>19</th>\n",
       "      <td>UCE_M8A5yxnLfW0KghEeajjw</td>\n",
       "      <td>Apple</td>\n",
       "      <td>10400000</td>\n",
       "      <td>301</td>\n",
       "    </tr>\n",
       "    <tr>\n",
       "      <th>10</th>\n",
       "      <td>UCBJycsmduvYEL83R_U4JriQ</td>\n",
       "      <td>Marques Brownlee</td>\n",
       "      <td>9790000</td>\n",
       "      <td>1169</td>\n",
       "    </tr>\n",
       "    <tr>\n",
       "      <th>15</th>\n",
       "      <td>UCK8sQmJBp8GCxrOtXWBpyEA</td>\n",
       "      <td>Google</td>\n",
       "      <td>8240000</td>\n",
       "      <td>2330</td>\n",
       "    </tr>\n",
       "    <tr>\n",
       "      <th>1</th>\n",
       "      <td>UCMDQxm7cUx3yXkfeHa5zJIQ</td>\n",
       "      <td>TeamYouTube [Help]</td>\n",
       "      <td>7570000</td>\n",
       "      <td>116</td>\n",
       "    </tr>\n",
       "  </tbody>\n",
       "</table>\n",
       "</div>"
      ],
      "text/plain": [
       "                  channel_id        channel_name  subscriber_count  \\\n",
       "24  UCsTcErHg8oDvUnTzoqsYeNw       Unbox Therapy          15800000   \n",
       "19  UCE_M8A5yxnLfW0KghEeajjw               Apple          10400000   \n",
       "10  UCBJycsmduvYEL83R_U4JriQ    Marques Brownlee           9790000   \n",
       "15  UCK8sQmJBp8GCxrOtXWBpyEA              Google           8240000   \n",
       "1   UCMDQxm7cUx3yXkfeHa5zJIQ  TeamYouTube [Help]           7570000   \n",
       "\n",
       "    video_count  \n",
       "24         1708  \n",
       "19          301  \n",
       "10         1169  \n",
       "15         2330  \n",
       "1           116  "
      ]
     },
     "execution_count": 10,
     "metadata": {},
     "output_type": "execute_result"
    }
   ],
   "source": [
    "tech_channels = top_n_channels(topic_ids['tech'], 25)\n",
    "tech_channels.head()"
   ]
  },
  {
   "cell_type": "markdown",
   "metadata": {},
   "source": [
    "## Creating a dataframe for all videos posted by Marques Brownlee"
   ]
  },
  {
   "cell_type": "code",
   "execution_count": 11,
   "metadata": {
    "ExecuteTime": {
     "end_time": "2019-11-25T08:04:55.609009Z",
     "start_time": "2019-11-25T08:04:02.797902Z"
    }
   },
   "outputs": [
    {
     "name": "stderr",
     "output_type": "stream",
     "text": [
      "/Users/jacktann/anaconda3/lib/python3.7/site-packages/ipykernel_launcher.py:4: FutureWarning: Passing timedelta64-dtype data is deprecated, will raise a TypeError in a future version\n",
      "  after removing the cwd from sys.path.\n"
     ]
    }
   ],
   "source": [
    "tech_channel_id = tech_channels.loc[12]['channel_id']\n",
    "tech_channel_df = create_channel_df(tech_channel_id)"
   ]
  },
  {
   "cell_type": "code",
   "execution_count": 13,
   "metadata": {
    "ExecuteTime": {
     "end_time": "2019-11-25T08:04:55.728721Z",
     "start_time": "2019-11-25T08:04:55.720469Z"
    }
   },
   "outputs": [],
   "source": [
    "tech_channel_df.set_index('publish_date', inplace = True)"
   ]
  },
  {
   "cell_type": "code",
   "execution_count": 36,
   "metadata": {
    "ExecuteTime": {
     "end_time": "2019-11-25T08:16:17.866658Z",
     "start_time": "2019-11-25T08:16:17.845377Z"
    }
   },
   "outputs": [
    {
     "data": {
      "text/html": [
       "<div>\n",
       "<style scoped>\n",
       "    .dataframe tbody tr th:only-of-type {\n",
       "        vertical-align: middle;\n",
       "    }\n",
       "\n",
       "    .dataframe tbody tr th {\n",
       "        vertical-align: top;\n",
       "    }\n",
       "\n",
       "    .dataframe thead th {\n",
       "        text-align: right;\n",
       "    }\n",
       "</style>\n",
       "<table border=\"1\" class=\"dataframe\">\n",
       "  <thead>\n",
       "    <tr style=\"text-align: right;\">\n",
       "      <th></th>\n",
       "      <th>comment_count</th>\n",
       "      <th>dislike_count</th>\n",
       "      <th>duration</th>\n",
       "      <th>like_count</th>\n",
       "      <th>live</th>\n",
       "      <th>tags</th>\n",
       "      <th>title</th>\n",
       "      <th>view_count</th>\n",
       "      <th>publish_hour</th>\n",
       "      <th>publish_day</th>\n",
       "      <th>publish_month</th>\n",
       "      <th>days_after_last_video</th>\n",
       "      <th>title_length</th>\n",
       "      <th>description_length</th>\n",
       "      <th>tag_count</th>\n",
       "    </tr>\n",
       "    <tr>\n",
       "      <th>publish_date</th>\n",
       "      <th></th>\n",
       "      <th></th>\n",
       "      <th></th>\n",
       "      <th></th>\n",
       "      <th></th>\n",
       "      <th></th>\n",
       "      <th></th>\n",
       "      <th></th>\n",
       "      <th></th>\n",
       "      <th></th>\n",
       "      <th></th>\n",
       "      <th></th>\n",
       "      <th></th>\n",
       "      <th></th>\n",
       "      <th></th>\n",
       "    </tr>\n",
       "  </thead>\n",
       "  <tbody>\n",
       "    <tr>\n",
       "      <th>2007-01-08</th>\n",
       "      <td>162</td>\n",
       "      <td>13</td>\n",
       "      <td>2</td>\n",
       "      <td>379</td>\n",
       "      <td>0</td>\n",
       "      <td>[analisis, a fondo, VS, en español, hands, gad...</td>\n",
       "      <td>videorama blackberry pearl 8100 VS 8800</td>\n",
       "      <td>56646</td>\n",
       "      <td>10</td>\n",
       "      <td>0</td>\n",
       "      <td>1</td>\n",
       "      <td>10</td>\n",
       "      <td>39</td>\n",
       "      <td>69</td>\n",
       "      <td>22</td>\n",
       "    </tr>\n",
       "    <tr>\n",
       "      <th>2007-01-16</th>\n",
       "      <td>4037</td>\n",
       "      <td>385</td>\n",
       "      <td>4</td>\n",
       "      <td>12028</td>\n",
       "      <td>0</td>\n",
       "      <td>[Nokia, videorama, prueba, a fondo, opiniones,...</td>\n",
       "      <td>videorama Nokia 5700 xpress music</td>\n",
       "      <td>525222</td>\n",
       "      <td>20</td>\n",
       "      <td>1</td>\n",
       "      <td>1</td>\n",
       "      <td>8</td>\n",
       "      <td>33</td>\n",
       "      <td>68</td>\n",
       "      <td>21</td>\n",
       "    </tr>\n",
       "    <tr>\n",
       "      <th>2007-01-17</th>\n",
       "      <td>25</td>\n",
       "      <td>7</td>\n",
       "      <td>4</td>\n",
       "      <td>94</td>\n",
       "      <td>0</td>\n",
       "      <td>[en profundidad, opinion, english, a fondo, re...</td>\n",
       "      <td>videorama Nokia 5700 xpress music english version</td>\n",
       "      <td>26678</td>\n",
       "      <td>0</td>\n",
       "      <td>2</td>\n",
       "      <td>1</td>\n",
       "      <td>1</td>\n",
       "      <td>49</td>\n",
       "      <td>68</td>\n",
       "      <td>23</td>\n",
       "    </tr>\n",
       "  </tbody>\n",
       "</table>\n",
       "</div>"
      ],
      "text/plain": [
       "              comment_count  dislike_count  duration  like_count  live  \\\n",
       "publish_date                                                             \n",
       "2007-01-08              162             13         2         379     0   \n",
       "2007-01-16             4037            385         4       12028     0   \n",
       "2007-01-17               25              7         4          94     0   \n",
       "\n",
       "                                                           tags  \\\n",
       "publish_date                                                      \n",
       "2007-01-08    [analisis, a fondo, VS, en español, hands, gad...   \n",
       "2007-01-16    [Nokia, videorama, prueba, a fondo, opiniones,...   \n",
       "2007-01-17    [en profundidad, opinion, english, a fondo, re...   \n",
       "\n",
       "                                                          title  view_count  \\\n",
       "publish_date                                                                  \n",
       "2007-01-08              videorama blackberry pearl 8100 VS 8800       56646   \n",
       "2007-01-16                    videorama Nokia 5700 xpress music      525222   \n",
       "2007-01-17    videorama Nokia 5700 xpress music english version       26678   \n",
       "\n",
       "              publish_hour  publish_day  publish_month  days_after_last_video  \\\n",
       "publish_date                                                                    \n",
       "2007-01-08              10            0              1                     10   \n",
       "2007-01-16              20            1              1                      8   \n",
       "2007-01-17               0            2              1                      1   \n",
       "\n",
       "              title_length  description_length  tag_count  \n",
       "publish_date                                               \n",
       "2007-01-08              39                  69         22  \n",
       "2007-01-16              33                  68         21  \n",
       "2007-01-17              49                  68         23  "
      ]
     },
     "execution_count": 36,
     "metadata": {},
     "output_type": "execute_result"
    }
   ],
   "source": [
    "tech_channel_df.head(3)"
   ]
  },
  {
   "cell_type": "code",
   "execution_count": 38,
   "metadata": {
    "ExecuteTime": {
     "end_time": "2019-11-25T08:16:56.844748Z",
     "start_time": "2019-11-25T08:16:56.805058Z"
    }
   },
   "outputs": [
    {
     "data": {
      "text/plain": [
       "publish_date\n",
       "2012-01-01     49002\n",
       "2012-02-01    115828\n",
       "2012-03-01     69416\n",
       "2012-04-01    113778\n",
       "2012-05-01     37618\n",
       "Freq: MS, Name: view_count, dtype: int64"
      ]
     },
     "execution_count": 38,
     "metadata": {},
     "output_type": "execute_result"
    }
   ],
   "source": [
    "tech_channel_monthly_views = tech_channel_df['2012-01-01':].view_count.resample('MS').mean().astype('int')\n",
    "tech_channel_monthly_views.head()"
   ]
  },
  {
   "cell_type": "code",
   "execution_count": 39,
   "metadata": {
    "ExecuteTime": {
     "end_time": "2019-11-25T08:17:04.424115Z",
     "start_time": "2019-11-25T08:17:04.135247Z"
    }
   },
   "outputs": [
    {
     "data": {
      "image/png": "[encoded data removed]",
      "text/plain": [
       "<Figure size 1440x576 with 1 Axes>"
      ]
     },
     "metadata": {
      "needs_background": "light"
     },
     "output_type": "display_data"
    }
   ],
   "source": [
    "fig = plt.figure(figsize=(20,8))\n",
    "plt.plot(tech_channel_monthly_views);"
   ]
  },
  {
   "cell_type": "code",
   "execution_count": 34,
   "metadata": {
    "ExecuteTime": {
     "end_time": "2019-11-25T08:14:03.223911Z",
     "start_time": "2019-11-25T08:14:03.193635Z"
    }
   },
   "outputs": [
    {
     "data": {
      "text/html": [
       "<div>\n",
       "<style scoped>\n",
       "    .dataframe tbody tr th:only-of-type {\n",
       "        vertical-align: middle;\n",
       "    }\n",
       "\n",
       "    .dataframe tbody tr th {\n",
       "        vertical-align: top;\n",
       "    }\n",
       "\n",
       "    .dataframe thead th {\n",
       "        text-align: right;\n",
       "    }\n",
       "</style>\n",
       "<table border=\"1\" class=\"dataframe\">\n",
       "  <thead>\n",
       "    <tr style=\"text-align: right;\">\n",
       "      <th></th>\n",
       "      <th>word</th>\n",
       "      <th>frequency</th>\n",
       "    </tr>\n",
       "  </thead>\n",
       "  <tbody>\n",
       "    <tr>\n",
       "      <th>0</th>\n",
       "      <td>en</td>\n",
       "      <td>402</td>\n",
       "    </tr>\n",
       "    <tr>\n",
       "      <th>1</th>\n",
       "      <td>unboxing</td>\n",
       "      <td>366</td>\n",
       "    </tr>\n",
       "    <tr>\n",
       "      <th>2</th>\n",
       "      <td>review</td>\n",
       "      <td>348</td>\n",
       "    </tr>\n",
       "    <tr>\n",
       "      <th>3</th>\n",
       "      <td>español</td>\n",
       "      <td>346</td>\n",
       "    </tr>\n",
       "    <tr>\n",
       "      <th>4</th>\n",
       "      <td>preview</td>\n",
       "      <td>226</td>\n",
       "    </tr>\n",
       "    <tr>\n",
       "      <th>5</th>\n",
       "      <td>Videorama</td>\n",
       "      <td>218</td>\n",
       "    </tr>\n",
       "    <tr>\n",
       "      <th>6</th>\n",
       "      <td>y</td>\n",
       "      <td>185</td>\n",
       "    </tr>\n",
       "    <tr>\n",
       "      <th>7</th>\n",
       "      <td>#Videorama</td>\n",
       "      <td>134</td>\n",
       "    </tr>\n",
       "    <tr>\n",
       "      <th>8</th>\n",
       "      <td>de</td>\n",
       "      <td>130</td>\n",
       "    </tr>\n",
       "    <tr>\n",
       "      <th>9</th>\n",
       "      <td>4K</td>\n",
       "      <td>129</td>\n",
       "    </tr>\n",
       "    <tr>\n",
       "      <th>10</th>\n",
       "      <td>Samsung</td>\n",
       "      <td>129</td>\n",
       "    </tr>\n",
       "    <tr>\n",
       "      <th>11</th>\n",
       "      <td>Sony</td>\n",
       "      <td>122</td>\n",
       "    </tr>\n",
       "    <tr>\n",
       "      <th>12</th>\n",
       "      <td>Apple</td>\n",
       "      <td>120</td>\n",
       "    </tr>\n",
       "    <tr>\n",
       "      <th>13</th>\n",
       "      <td>|</td>\n",
       "      <td>114</td>\n",
       "    </tr>\n",
       "    <tr>\n",
       "      <th>14</th>\n",
       "      <td>UHD</td>\n",
       "      <td>111</td>\n",
       "    </tr>\n",
       "    <tr>\n",
       "      <th>15</th>\n",
       "      <td>Galaxy</td>\n",
       "      <td>106</td>\n",
       "    </tr>\n",
       "    <tr>\n",
       "      <th>16</th>\n",
       "      <td>iPhone</td>\n",
       "      <td>89</td>\n",
       "    </tr>\n",
       "    <tr>\n",
       "      <th>17</th>\n",
       "      <td>Xperia</td>\n",
       "      <td>81</td>\n",
       "    </tr>\n",
       "    <tr>\n",
       "      <th>18</th>\n",
       "      <td>LG</td>\n",
       "      <td>80</td>\n",
       "    </tr>\n",
       "    <tr>\n",
       "      <th>19</th>\n",
       "      <td>Pro</td>\n",
       "      <td>68</td>\n",
       "    </tr>\n",
       "    <tr>\n",
       "      <th>20</th>\n",
       "      <td>Huawei</td>\n",
       "      <td>66</td>\n",
       "    </tr>\n",
       "    <tr>\n",
       "      <th>21</th>\n",
       "      <td>vs</td>\n",
       "      <td>54</td>\n",
       "    </tr>\n",
       "    <tr>\n",
       "      <th>22</th>\n",
       "      <td>Nokia</td>\n",
       "      <td>50</td>\n",
       "    </tr>\n",
       "    <tr>\n",
       "      <th>23</th>\n",
       "      <td>-el</td>\n",
       "      <td>49</td>\n",
       "    </tr>\n",
       "    <tr>\n",
       "      <th>24</th>\n",
       "      <td>Xiaomi</td>\n",
       "      <td>48</td>\n",
       "    </tr>\n",
       "  </tbody>\n",
       "</table>\n",
       "</div>"
      ],
      "text/plain": [
       "          word  frequency\n",
       "0           en        402\n",
       "1     unboxing        366\n",
       "2       review        348\n",
       "3      español        346\n",
       "4      preview        226\n",
       "5    Videorama        218\n",
       "6            y        185\n",
       "7   #Videorama        134\n",
       "8           de        130\n",
       "9           4K        129\n",
       "10     Samsung        129\n",
       "11        Sony        122\n",
       "12       Apple        120\n",
       "13           |        114\n",
       "14         UHD        111\n",
       "15      Galaxy        106\n",
       "16      iPhone         89\n",
       "17      Xperia         81\n",
       "18          LG         80\n",
       "19         Pro         68\n",
       "20      Huawei         66\n",
       "21          vs         54\n",
       "22       Nokia         50\n",
       "23         -el         49\n",
       "24      Xiaomi         48"
      ]
     },
     "execution_count": 34,
     "metadata": {},
     "output_type": "execute_result"
    }
   ],
   "source": [
    "words = []\n",
    "for video in tech_channel_df.title:\n",
    "    words += video.split(' ')\n",
    "word_freq_df = pd.DataFrame(pd.Series(words).value_counts()).reset_index()\n",
    "word_freq_df.columns = ['word', 'frequency']\n",
    "word_freq_df.head(25)"
   ]
  },
  {
   "cell_type": "code",
   "execution_count": null,
   "metadata": {},
   "outputs": [],
   "source": []
  }
 ],
 "metadata": {
  "kernelspec": {
   "display_name": "Python 3",
   "language": "python",
   "name": "python3"
  },
  "language_info": {
   "codemirror_mode": {
    "name": "ipython",
    "version": 3
   },
   "file_extension": ".py",
   "mimetype": "text/x-python",
   "name": "python",
   "nbconvert_exporter": "python",
   "pygments_lexer": "ipython3",
   "version": "3.7.3"
  },
  "toc": {
   "base_numbering": 1,
   "nav_menu": {},
   "number_sections": true,
   "sideBar": true,
   "skip_h1_title": true,
   "title_cell": "Table of Contents",
   "title_sidebar": "Contents",
   "toc_cell": false,
   "toc_position": {},
   "toc_section_display": true,
   "toc_window_display": false
  },
  "varInspector": {
   "cols": {
    "lenName": 16,
    "lenType": 16,
    "lenVar": 40
   },
   "kernels_config": {
    "python": {
     "delete_cmd_postfix": "",
     "delete_cmd_prefix": "del ",
     "library": "var_list.py",
     "varRefreshCmd": "print(var_dic_list())"
    },
    "r": {
     "delete_cmd_postfix": ") ",
     "delete_cmd_prefix": "rm(",
     "library": "var_list.r",
     "varRefreshCmd": "cat(var_dic_list()) "
    }
   },
   "types_to_exclude": [
    "module",
    "function",
    "builtin_function_or_method",
    "instance",
    "_Feature"
   ],
   "window_display": false
  }
 },
 "nbformat": 4,
 "nbformat_minor": 2
}
